{
 "cells": [
  {
   "cell_type": "markdown",
   "id": "5e098b07",
   "metadata": {},
   "source": [
    "# VaR by Monte Carlo Simulation"
   ]
  },
  {
   "cell_type": "markdown",
   "id": "ddcd89fc",
   "metadata": {},
   "source": [
    "1. Install necessary libraries \n",
    "2. Define parameters (time range, tickers, portfolio value, simulations, confidence interval)\n",
    "3. Download adjusted close prices (accounting for dividends and stock splits) \n",
    "4. Calculate daily log returns \n",
    "5. Define functions for expected return and standard deviation \n",
    "6. Calculate portfolio metrics (covariance matrix & equally weighted portfolio)\n",
    "7. Define function for portfolio gain/loss in each scenario \n",
    "8. Run Monte Carlo simulations \n",
    "9. Calculate VaR\n",
    "10. Plot the Results "
   ]
  },
  {
   "cell_type": "code",
   "execution_count": 1,
   "id": "27decacd",
   "metadata": {},
   "outputs": [],
   "source": [
    "import numpy as np\n",
    "import pandas as pd\n",
    "import datetime as dt\n",
    "import yfinance as yf\n",
    "import matplotlib.pyplot as plt\n",
    "from scipy.stats import norm"
   ]
  },
  {
   "cell_type": "code",
   "execution_count": 2,
   "id": "422bfda3",
   "metadata": {},
   "outputs": [],
   "source": [
    "# Define parameters\n",
    "years = 15\n",
    "endDate = dt.datetime.now()\n",
    "startDate = endDate - dt.timedelta(days=365 * years)\n",
    "tickers = ['SPY', 'BND', 'GLD', 'QQQ', 'VTI']\n",
    "portfolio_value = 1000000\n",
    "simulations = 10000\n",
    "days = 5\n",
    "confidence_interval = 0.95"
   ]
  },
  {
   "cell_type": "code",
   "execution_count": 3,
   "id": "7f90d86f",
   "metadata": {},
   "outputs": [
    {
     "name": "stdout",
     "output_type": "stream",
     "text": [
      "[*********************100%***********************]  1 of 1 completed\n",
      "[*********************100%***********************]  1 of 1 completed\n",
      "[*********************100%***********************]  1 of 1 completed\n",
      "[*********************100%***********************]  1 of 1 completed\n",
      "[*********************100%***********************]  1 of 1 completed\n"
     ]
    }
   ],
   "source": [
    "# Download adjusted close prices (accounting for dividends and stock splits)\n",
    "adj_close_df = pd.DataFrame()\n",
    "for ticker in tickers:\n",
    "    data = yf.download(ticker, start=startDate, end=endDate)\n",
    "    adj_close_df[ticker] = data['Adj Close']"
   ]
  },
  {
   "cell_type": "code",
   "execution_count": 4,
   "id": "d73b42ab",
   "metadata": {},
   "outputs": [],
   "source": [
    "# Calculate daily log returns\n",
    "log_returns = np.log(adj_close_df / adj_close_df.shift(1)).dropna()"
   ]
  },
  {
   "cell_type": "code",
   "execution_count": 5,
   "id": "bf981e56",
   "metadata": {},
   "outputs": [],
   "source": [
    "# Define functions for expected return and standard deviation\n",
    "def expected_return(weights, returns):\n",
    "    return np.sum(returns.mean() * weights)\n",
    "\n",
    "def standard_deviation(weights, cov_matrix):\n",
    "    return np.sqrt(weights.T @ cov_matrix @ weights)"
   ]
  },
  {
   "cell_type": "code",
   "execution_count": 6,
   "id": "2c561851",
   "metadata": {},
   "outputs": [],
   "source": [
    "# Calculate portfolio metrics\n",
    "cov_matrix = log_returns.cov()\n",
    "weights = np.array([1/len(tickers)] * len(tickers))\n",
    "portfolio_exp_return = expected_return(weights, log_returns)\n",
    "portfolio_std_dev = standard_deviation(weights, cov_matrix)"
   ]
  },
  {
   "cell_type": "code",
   "execution_count": 7,
   "id": "399d5447",
   "metadata": {},
   "outputs": [],
   "source": [
    "# Define function for portfolio gain/loss in each scenario\n",
    "def scenario_gain_loss(value, exp_return, std_dev, z_score, num_days):\n",
    "    return value * exp_return * num_days + value * std_dev * z_score * np.sqrt(num_days)"
   ]
  },
  {
   "cell_type": "code",
   "execution_count": 8,
   "id": "c05ac271",
   "metadata": {},
   "outputs": [],
   "source": [
    "# Run Monte Carlo simulations\n",
    "scenarioReturns = [scenario_gain_loss(portfolio_value, portfolio_exp_return, portfolio_std_dev, np.random.normal(0, 1), days) for _ in range(simulations)]"
   ]
  },
  {
   "cell_type": "code",
   "execution_count": 9,
   "id": "c9222a73",
   "metadata": {},
   "outputs": [
    {
     "data": {
      "text/plain": [
       "27010.324301458557"
      ]
     },
     "execution_count": 9,
     "metadata": {},
     "output_type": "execute_result"
    }
   ],
   "source": [
    "# Calculate VaR\n",
    "VaR = -np.percentile(scenarioReturns, 100 * (1 - confidence_interval))\n",
    "VaR"
   ]
  },
  {
   "cell_type": "code",
   "execution_count": 10,
   "id": "e9a1e1d0",
   "metadata": {},
   "outputs": [
    {
     "data": {
      "image/png": "[encoded data removed]",
      "text/plain": [
       "<Figure size 432x288 with 1 Axes>"
      ]
     },
     "metadata": {
      "needs_background": "light"
     },
     "output_type": "display_data"
    }
   ],
   "source": [
    "# Plot the results\n",
    "plt.hist(scenarioReturns, bins=50, density=True)\n",
    "plt.xlabel('Scenario Gain/Loss ($)')\n",
    "plt.ylabel('Frequency')\n",
    "plt.title(f'Distribution of Portfolio Gain/Loss Over {days} Days')\n",
    "plt.axvline(-VaR, color='r', linestyle='dashed', linewidth=2, label=f'VaR at {confidence_interval:.0%} confidence level')\n",
    "plt.legend()\n",
    "plt.show()"
   ]
  }
 ],
 "metadata": {
  "kernelspec": {
   "display_name": "Python 3 (ipykernel)",
   "language": "python",
   "name": "python3"
  },
  "language_info": {
   "codemirror_mode": {
    "name": "ipython",
    "version": 3
   },
   "file_extension": ".py",
   "mimetype": "text/x-python",
   "name": "python",
   "nbconvert_exporter": "python",
   "pygments_lexer": "ipython3",
   "version": "3.10.0"
  }
 },
 "nbformat": 4,
 "nbformat_minor": 5
}
