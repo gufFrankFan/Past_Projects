{
 "cells": [
  {
   "cell_type": "markdown",
   "id": "48d1f2b1",
   "metadata": {},
   "source": [
    "# Consumer Credit Project"
   ]
  },
  {
   "cell_type": "markdown",
   "id": "1aad52f4",
   "metadata": {},
   "source": [
    "Banks play a crucial role in market economies. They decide who can get finance and on what terms and \n",
    "can make or break investment decisions. For markets and society to function, individuals and companies \n",
    "need access to credit. \n",
    "\n",
    "Credit scoring algorithms, which make a guess at the probability of default, are the method banks use to \n",
    "determine whether or not a loan should be granted. This assignment requires students to improve on \n",
    "the state of the art in credit scoring, by predicting the probability that somebody will experience \n",
    "financial distress in the next two years.\n",
    "\n",
    "The goal of this assignment is to build a model that borrowers can use to help make the best financial \n",
    "decisions."
   ]
  },
  {
   "cell_type": "markdown",
   "id": "02a6e16f",
   "metadata": {},
   "source": [
    "# Content"
   ]
  },
  {
   "cell_type": "markdown",
   "id": "85d142da",
   "metadata": {},
   "source": [
    "* #### 1. Problem Definition\n",
    "* #### 2. Loading the Packages and Data\n",
    "   * 2.1. Load Packages \n",
    "   * 2.2. Load Dataset\n",
    "* #### 3. Data Preparation\n",
    "   * 3.1. Fill the NA with median for both train & test dataset\n",
    "   * 3.2. SeriousDlqin2yrs (or Target y) Distribution\n",
    "   * 3.3. Detect & Drop Outliers from train dataset\n",
    "   * 3.4. Merge Dataset\n",
    "* #### 4. Exploratory Data Analysis\n",
    "   * 4.1. Data Transformation (1) & Data Visualization\n",
    "   * 4.2. Descriptive Statistics \n",
    "   * 4.3. Data Transformation (2): Building binary/dummy variables\n",
    "* #### 5. Finalize Model\n",
    "   * 5.1. Train/Test Split\n",
    "   * 5.2. Set & Fit the Model\n",
    "   * 5.3. Feature Selection \n",
    "   * 5.4. Use the Model to Make Predictions \n",
    "      * 5.4.1. Generation of y_predict (SeriousDlqin2yrs or Target)\n",
    "      * 5.4.2. Generation of Default Probability\n",
    "   * 5.5. Output the Data (File to Turn-in)\n"
   ]
  },
  {
   "cell_type": "markdown",
   "id": "93693e93",
   "metadata": {},
   "source": [
    "# 1. Problem Definition"
   ]
  },
  {
   "cell_type": "markdown",
   "id": "42883f0c",
   "metadata": {},
   "source": [
    "#### id (Type: integer)\n",
    "Row Identifier \n",
    "\n",
    "#### Dependent: SeriousDlqin2yrs (Type: Y/N)\n",
    "Person experienced 90 days past due delinquency or worse.\n",
    "\n",
    "\n",
    "### Features [10]:\n",
    "\n",
    "#### 1. Revolving Utilization Of Unsecured Lines (Type: percentage)\n",
    "Total balance on credit cards and personal lines of credit except real estate and\n",
    "no installment debt like carloans divided by the sum of credit limits.\n",
    "#### 2. age (Type: integer)\n",
    "Age of borrower in years\n",
    "#### 3. Number Of Time 30-59 Days Past Due Not Worse (Type: integer)\n",
    "Number of times borrower has been 30-59 days past due but no worse in the last 2 years.\n",
    "#### 4. Debt Ratio (Type: percentage)\n",
    "Monthly debt payments, alimony,living costs divided by monthy gross income.\n",
    "#### 5. Monthly Income (Type: real)\n",
    "Monthly Income.\n",
    "#### 6. Number Of Open Credit Lines And Loans (Type: integer)\n",
    "Number of Open loans (installment like car loan or mortgage) and Lines of credit (e.g. credit cards)\n",
    "#### 7. Number Of Times 90 Days Late (Type: integer)\n",
    "Number of times borrower has been 90 days or more past due.\n",
    "#### 8. Number Real Estate Loans Or Lines (Type: integer)\n",
    "Number of mortgage and real estate loans including home equity lines of credit.\n",
    "#### 9. Number Of Time 60-89 Days Past Due Not Worse (Type: integer)\n",
    "Number of times borrower has been 60-89 days past due but no worse in the last 2 years.\n",
    "#### 10. Number Of Dependents (Type: integer)\n",
    "Number of dependents in family excluding themselves (spouse, children etc.)"
   ]
  },
  {
   "cell_type": "markdown",
   "id": "19645f35",
   "metadata": {},
   "source": [
    "# 2. Loading the Packages and Data"
   ]
  },
  {
   "cell_type": "markdown",
   "id": "1627981c",
   "metadata": {},
   "source": [
    "## 2.1. Load Packages"
   ]
  },
  {
   "cell_type": "code",
   "execution_count": 1,
   "id": "2237381f",
   "metadata": {},
   "outputs": [],
   "source": [
    "#Loading Libraries\n",
    "import pandas as pd\n",
    "import numpy as np\n",
    "import seaborn as sns\n",
    "import matplotlib.pyplot as plt\n",
    "import scikitplot as skplt\n",
    "\n",
    "from collections import Counter\n",
    "\n",
    "#Function and Modules for the Logistic Regression\n",
    "from sklearn.linear_model import LogisticRegression"
   ]
  },
  {
   "cell_type": "markdown",
   "id": "0f1c4bb2",
   "metadata": {},
   "source": [
    "## 2.2. Load Dataset "
   ]
  },
  {
   "cell_type": "code",
   "execution_count": 2,
   "id": "1788d016",
   "metadata": {},
   "outputs": [],
   "source": [
    "train = pd.read_csv(\"ConsumerCred-train.csv\")\n",
    "test = pd.read_csv(\"ConsumerCred-test.csv\")"
   ]
  },
  {
   "cell_type": "code",
   "execution_count": 3,
   "id": "53e50810",
   "metadata": {},
   "outputs": [
    {
     "data": {
      "text/html": [
       "<div>\n",
       "<style scoped>\n",
       "    .dataframe tbody tr th:only-of-type {\n",
       "        vertical-align: middle;\n",
       "    }\n",
       "\n",
       "    .dataframe tbody tr th {\n",
       "        vertical-align: top;\n",
       "    }\n",
       "\n",
       "    .dataframe thead th {\n",
       "        text-align: right;\n",
       "    }\n",
       "</style>\n",
       "<table border=\"1\" class=\"dataframe\">\n",
       "  <thead>\n",
       "    <tr style=\"text-align: right;\">\n",
       "      <th></th>\n",
       "      <th>id</th>\n",
       "      <th>SeriousDlqin2yrs</th>\n",
       "      <th>RevolvingUtilizationOfUnsecuredLines</th>\n",
       "      <th>age</th>\n",
       "      <th>NumberOfTime30-59DaysPastDueNotWorse</th>\n",
       "      <th>DebtRatio</th>\n",
       "      <th>MonthlyIncome</th>\n",
       "      <th>NumberOfOpenCreditLinesAndLoans</th>\n",
       "      <th>NumberOfTimes90DaysLate</th>\n",
       "      <th>NumberRealEstateLoansOrLines</th>\n",
       "      <th>NumberOfTime60-89DaysPastDueNotWorse</th>\n",
       "      <th>NumberOfDependents</th>\n",
       "    </tr>\n",
       "  </thead>\n",
       "  <tbody>\n",
       "    <tr>\n",
       "      <th>0</th>\n",
       "      <td>1</td>\n",
       "      <td>1</td>\n",
       "      <td>0.766127</td>\n",
       "      <td>45</td>\n",
       "      <td>2</td>\n",
       "      <td>0.802982</td>\n",
       "      <td>9120.0</td>\n",
       "      <td>13</td>\n",
       "      <td>0</td>\n",
       "      <td>6</td>\n",
       "      <td>0</td>\n",
       "      <td>2.0</td>\n",
       "    </tr>\n",
       "    <tr>\n",
       "      <th>1</th>\n",
       "      <td>2</td>\n",
       "      <td>0</td>\n",
       "      <td>0.957151</td>\n",
       "      <td>40</td>\n",
       "      <td>0</td>\n",
       "      <td>0.121876</td>\n",
       "      <td>2600.0</td>\n",
       "      <td>4</td>\n",
       "      <td>0</td>\n",
       "      <td>0</td>\n",
       "      <td>0</td>\n",
       "      <td>1.0</td>\n",
       "    </tr>\n",
       "    <tr>\n",
       "      <th>2</th>\n",
       "      <td>3</td>\n",
       "      <td>0</td>\n",
       "      <td>0.658180</td>\n",
       "      <td>38</td>\n",
       "      <td>1</td>\n",
       "      <td>0.085113</td>\n",
       "      <td>3042.0</td>\n",
       "      <td>2</td>\n",
       "      <td>1</td>\n",
       "      <td>0</td>\n",
       "      <td>0</td>\n",
       "      <td>0.0</td>\n",
       "    </tr>\n",
       "    <tr>\n",
       "      <th>3</th>\n",
       "      <td>4</td>\n",
       "      <td>0</td>\n",
       "      <td>0.233810</td>\n",
       "      <td>30</td>\n",
       "      <td>0</td>\n",
       "      <td>0.036050</td>\n",
       "      <td>3300.0</td>\n",
       "      <td>5</td>\n",
       "      <td>0</td>\n",
       "      <td>0</td>\n",
       "      <td>0</td>\n",
       "      <td>0.0</td>\n",
       "    </tr>\n",
       "    <tr>\n",
       "      <th>4</th>\n",
       "      <td>5</td>\n",
       "      <td>0</td>\n",
       "      <td>0.907239</td>\n",
       "      <td>49</td>\n",
       "      <td>1</td>\n",
       "      <td>0.024926</td>\n",
       "      <td>63588.0</td>\n",
       "      <td>7</td>\n",
       "      <td>0</td>\n",
       "      <td>1</td>\n",
       "      <td>0</td>\n",
       "      <td>0.0</td>\n",
       "    </tr>\n",
       "  </tbody>\n",
       "</table>\n",
       "</div>"
      ],
      "text/plain": [
       "   id  SeriousDlqin2yrs  RevolvingUtilizationOfUnsecuredLines  age  \\\n",
       "0   1                 1                              0.766127   45   \n",
       "1   2                 0                              0.957151   40   \n",
       "2   3                 0                              0.658180   38   \n",
       "3   4                 0                              0.233810   30   \n",
       "4   5                 0                              0.907239   49   \n",
       "\n",
       "   NumberOfTime30-59DaysPastDueNotWorse  DebtRatio  MonthlyIncome  \\\n",
       "0                                     2   0.802982         9120.0   \n",
       "1                                     0   0.121876         2600.0   \n",
       "2                                     1   0.085113         3042.0   \n",
       "3                                     0   0.036050         3300.0   \n",
       "4                                     1   0.024926        63588.0   \n",
       "\n",
       "   NumberOfOpenCreditLinesAndLoans  NumberOfTimes90DaysLate  \\\n",
       "0                               13                        0   \n",
       "1                                4                        0   \n",
       "2                                2                        1   \n",
       "3                                5                        0   \n",
       "4                                7                        0   \n",
       "\n",
       "   NumberRealEstateLoansOrLines  NumberOfTime60-89DaysPastDueNotWorse  \\\n",
       "0                             6                                     0   \n",
       "1                             0                                     0   \n",
       "2                             0                                     0   \n",
       "3                             0                                     0   \n",
       "4                             1                                     0   \n",
       "\n",
       "   NumberOfDependents  \n",
       "0                 2.0  \n",
       "1                 1.0  \n",
       "2                 0.0  \n",
       "3                 0.0  \n",
       "4                 0.0  "
      ]
     },
     "execution_count": 3,
     "metadata": {},
     "output_type": "execute_result"
    }
   ],
   "source": [
    "train.head()"
   ]
  },
  {
   "cell_type": "code",
   "execution_count": 4,
   "id": "fe59f622",
   "metadata": {},
   "outputs": [
    {
     "data": {
      "text/html": [
       "<div>\n",
       "<style scoped>\n",
       "    .dataframe tbody tr th:only-of-type {\n",
       "        vertical-align: middle;\n",
       "    }\n",
       "\n",
       "    .dataframe tbody tr th {\n",
       "        vertical-align: top;\n",
       "    }\n",
       "\n",
       "    .dataframe thead th {\n",
       "        text-align: right;\n",
       "    }\n",
       "</style>\n",
       "<table border=\"1\" class=\"dataframe\">\n",
       "  <thead>\n",
       "    <tr style=\"text-align: right;\">\n",
       "      <th></th>\n",
       "      <th>id</th>\n",
       "      <th>SeriousDlqin2yrs</th>\n",
       "      <th>RevolvingUtilizationOfUnsecuredLines</th>\n",
       "      <th>age</th>\n",
       "      <th>NumberOfTime30-59DaysPastDueNotWorse</th>\n",
       "      <th>DebtRatio</th>\n",
       "      <th>MonthlyIncome</th>\n",
       "      <th>NumberOfOpenCreditLinesAndLoans</th>\n",
       "      <th>NumberOfTimes90DaysLate</th>\n",
       "      <th>NumberRealEstateLoansOrLines</th>\n",
       "      <th>NumberOfTime60-89DaysPastDueNotWorse</th>\n",
       "      <th>NumberOfDependents</th>\n",
       "    </tr>\n",
       "  </thead>\n",
       "  <tbody>\n",
       "    <tr>\n",
       "      <th>count</th>\n",
       "      <td>112500.000000</td>\n",
       "      <td>112500.000000</td>\n",
       "      <td>112500.000000</td>\n",
       "      <td>112500.000000</td>\n",
       "      <td>112500.000000</td>\n",
       "      <td>112500.000000</td>\n",
       "      <td>9.016900e+04</td>\n",
       "      <td>112500.000000</td>\n",
       "      <td>112500.000000</td>\n",
       "      <td>112500.000000</td>\n",
       "      <td>112500.000000</td>\n",
       "      <td>109509.000000</td>\n",
       "    </tr>\n",
       "    <tr>\n",
       "      <th>mean</th>\n",
       "      <td>56250.500000</td>\n",
       "      <td>0.067227</td>\n",
       "      <td>5.875869</td>\n",
       "      <td>52.318018</td>\n",
       "      <td>0.422809</td>\n",
       "      <td>350.538451</td>\n",
       "      <td>6.651952e+03</td>\n",
       "      <td>8.463840</td>\n",
       "      <td>0.268124</td>\n",
       "      <td>1.019520</td>\n",
       "      <td>0.243120</td>\n",
       "      <td>0.758458</td>\n",
       "    </tr>\n",
       "    <tr>\n",
       "      <th>std</th>\n",
       "      <td>32476.096979</td>\n",
       "      <td>0.250415</td>\n",
       "      <td>216.049516</td>\n",
       "      <td>14.769059</td>\n",
       "      <td>4.225422</td>\n",
       "      <td>1536.092601</td>\n",
       "      <td>1.114783e+04</td>\n",
       "      <td>5.150094</td>\n",
       "      <td>4.202573</td>\n",
       "      <td>1.133609</td>\n",
       "      <td>4.188614</td>\n",
       "      <td>1.115585</td>\n",
       "    </tr>\n",
       "    <tr>\n",
       "      <th>min</th>\n",
       "      <td>1.000000</td>\n",
       "      <td>0.000000</td>\n",
       "      <td>0.000000</td>\n",
       "      <td>21.000000</td>\n",
       "      <td>0.000000</td>\n",
       "      <td>0.000000</td>\n",
       "      <td>0.000000e+00</td>\n",
       "      <td>0.000000</td>\n",
       "      <td>0.000000</td>\n",
       "      <td>0.000000</td>\n",
       "      <td>0.000000</td>\n",
       "      <td>0.000000</td>\n",
       "    </tr>\n",
       "    <tr>\n",
       "      <th>25%</th>\n",
       "      <td>28125.750000</td>\n",
       "      <td>0.000000</td>\n",
       "      <td>0.030293</td>\n",
       "      <td>41.000000</td>\n",
       "      <td>0.000000</td>\n",
       "      <td>0.174611</td>\n",
       "      <td>3.400000e+03</td>\n",
       "      <td>5.000000</td>\n",
       "      <td>0.000000</td>\n",
       "      <td>0.000000</td>\n",
       "      <td>0.000000</td>\n",
       "      <td>0.000000</td>\n",
       "    </tr>\n",
       "    <tr>\n",
       "      <th>50%</th>\n",
       "      <td>56250.500000</td>\n",
       "      <td>0.000000</td>\n",
       "      <td>0.153932</td>\n",
       "      <td>52.000000</td>\n",
       "      <td>0.000000</td>\n",
       "      <td>0.366913</td>\n",
       "      <td>5.400000e+03</td>\n",
       "      <td>8.000000</td>\n",
       "      <td>0.000000</td>\n",
       "      <td>1.000000</td>\n",
       "      <td>0.000000</td>\n",
       "      <td>0.000000</td>\n",
       "    </tr>\n",
       "    <tr>\n",
       "      <th>75%</th>\n",
       "      <td>84375.250000</td>\n",
       "      <td>0.000000</td>\n",
       "      <td>0.558363</td>\n",
       "      <td>63.000000</td>\n",
       "      <td>0.000000</td>\n",
       "      <td>0.872048</td>\n",
       "      <td>8.250000e+03</td>\n",
       "      <td>11.000000</td>\n",
       "      <td>0.000000</td>\n",
       "      <td>2.000000</td>\n",
       "      <td>0.000000</td>\n",
       "      <td>1.000000</td>\n",
       "    </tr>\n",
       "    <tr>\n",
       "      <th>max</th>\n",
       "      <td>112500.000000</td>\n",
       "      <td>1.000000</td>\n",
       "      <td>29110.000000</td>\n",
       "      <td>109.000000</td>\n",
       "      <td>98.000000</td>\n",
       "      <td>220516.000000</td>\n",
       "      <td>1.794060e+06</td>\n",
       "      <td>58.000000</td>\n",
       "      <td>98.000000</td>\n",
       "      <td>54.000000</td>\n",
       "      <td>98.000000</td>\n",
       "      <td>13.000000</td>\n",
       "    </tr>\n",
       "  </tbody>\n",
       "</table>\n",
       "</div>"
      ],
      "text/plain": [
       "                  id  SeriousDlqin2yrs  RevolvingUtilizationOfUnsecuredLines  \\\n",
       "count  112500.000000     112500.000000                         112500.000000   \n",
       "mean    56250.500000          0.067227                              5.875869   \n",
       "std     32476.096979          0.250415                            216.049516   \n",
       "min         1.000000          0.000000                              0.000000   \n",
       "25%     28125.750000          0.000000                              0.030293   \n",
       "50%     56250.500000          0.000000                              0.153932   \n",
       "75%     84375.250000          0.000000                              0.558363   \n",
       "max    112500.000000          1.000000                          29110.000000   \n",
       "\n",
       "                 age  NumberOfTime30-59DaysPastDueNotWorse      DebtRatio  \\\n",
       "count  112500.000000                         112500.000000  112500.000000   \n",
       "mean       52.318018                              0.422809     350.538451   \n",
       "std        14.769059                              4.225422    1536.092601   \n",
       "min        21.000000                              0.000000       0.000000   \n",
       "25%        41.000000                              0.000000       0.174611   \n",
       "50%        52.000000                              0.000000       0.366913   \n",
       "75%        63.000000                              0.000000       0.872048   \n",
       "max       109.000000                             98.000000  220516.000000   \n",
       "\n",
       "       MonthlyIncome  NumberOfOpenCreditLinesAndLoans  \\\n",
       "count   9.016900e+04                    112500.000000   \n",
       "mean    6.651952e+03                         8.463840   \n",
       "std     1.114783e+04                         5.150094   \n",
       "min     0.000000e+00                         0.000000   \n",
       "25%     3.400000e+03                         5.000000   \n",
       "50%     5.400000e+03                         8.000000   \n",
       "75%     8.250000e+03                        11.000000   \n",
       "max     1.794060e+06                        58.000000   \n",
       "\n",
       "       NumberOfTimes90DaysLate  NumberRealEstateLoansOrLines  \\\n",
       "count            112500.000000                 112500.000000   \n",
       "mean                  0.268124                      1.019520   \n",
       "std                   4.202573                      1.133609   \n",
       "min                   0.000000                      0.000000   \n",
       "25%                   0.000000                      0.000000   \n",
       "50%                   0.000000                      1.000000   \n",
       "75%                   0.000000                      2.000000   \n",
       "max                  98.000000                     54.000000   \n",
       "\n",
       "       NumberOfTime60-89DaysPastDueNotWorse  NumberOfDependents  \n",
       "count                         112500.000000       109509.000000  \n",
       "mean                               0.243120            0.758458  \n",
       "std                                4.188614            1.115585  \n",
       "min                                0.000000            0.000000  \n",
       "25%                                0.000000            0.000000  \n",
       "50%                                0.000000            0.000000  \n",
       "75%                                0.000000            1.000000  \n",
       "max                               98.000000           13.000000  "
      ]
     },
     "execution_count": 4,
     "metadata": {},
     "output_type": "execute_result"
    }
   ],
   "source": [
    "train.describe()"
   ]
  },
  {
   "cell_type": "code",
   "execution_count": 5,
   "id": "ebb2215f",
   "metadata": {},
   "outputs": [
    {
     "data": {
      "text/plain": [
       "id                                          0\n",
       "SeriousDlqin2yrs                            0\n",
       "RevolvingUtilizationOfUnsecuredLines        0\n",
       "age                                         0\n",
       "NumberOfTime30-59DaysPastDueNotWorse        0\n",
       "DebtRatio                                   0\n",
       "MonthlyIncome                           22331\n",
       "NumberOfOpenCreditLinesAndLoans             0\n",
       "NumberOfTimes90DaysLate                     0\n",
       "NumberRealEstateLoansOrLines                0\n",
       "NumberOfTime60-89DaysPastDueNotWorse        0\n",
       "NumberOfDependents                       2991\n",
       "dtype: int64"
      ]
     },
     "execution_count": 5,
     "metadata": {},
     "output_type": "execute_result"
    }
   ],
   "source": [
    "train.isnull().sum()"
   ]
  },
  {
   "cell_type": "code",
   "execution_count": 6,
   "id": "db6d461d",
   "metadata": {},
   "outputs": [
    {
     "data": {
      "text/plain": [
       "id                                         0\n",
       "RevolvingUtilizationOfUnsecuredLines       0\n",
       "age                                        0\n",
       "NumberOfTime30-59DaysPastDueNotWorse       0\n",
       "DebtRatio                                  0\n",
       "MonthlyIncome                           7400\n",
       "NumberOfOpenCreditLinesAndLoans            0\n",
       "NumberOfTimes90DaysLate                    0\n",
       "NumberRealEstateLoansOrLines               0\n",
       "NumberOfTime60-89DaysPastDueNotWorse       0\n",
       "NumberOfDependents                       933\n",
       "dtype: int64"
      ]
     },
     "execution_count": 6,
     "metadata": {},
     "output_type": "execute_result"
    }
   ],
   "source": [
    "test.isnull().sum()"
   ]
  },
  {
   "cell_type": "markdown",
   "id": "ceb29215",
   "metadata": {},
   "source": [
    "# 3. Data Preparation"
   ]
  },
  {
   "cell_type": "markdown",
   "id": "caa5d510",
   "metadata": {},
   "source": [
    "## 3.1. Fill the NA with median for both train & test dataset"
   ]
  },
  {
   "cell_type": "markdown",
   "id": "9de82846",
   "metadata": {},
   "source": [
    "By code \".isnull().sum()\", we have found out both \"MonthlyIncome\" and \"NumberOfDependents\" have some \"NA\" in both train and test raw data. Therefore, we fill these \"NA\" with the corresponding median number. "
   ]
  },
  {
   "cell_type": "code",
   "execution_count": 7,
   "id": "4253b29a",
   "metadata": {},
   "outputs": [],
   "source": [
    "#Fill the NA with median for both train & test dataset\n",
    "train.MonthlyIncome = train.MonthlyIncome.fillna(train.MonthlyIncome.median())\n",
    "train.NumberOfDependents = train.NumberOfDependents.fillna(train.NumberOfDependents.median())\n",
    "\n",
    "test.MonthlyIncome = train.MonthlyIncome.fillna(train.MonthlyIncome.median())\n",
    "test.NumberOfDependents = train.NumberOfDependents.fillna(train.NumberOfDependents.median())"
   ]
  },
  {
   "cell_type": "code",
   "execution_count": 8,
   "id": "3a3fff99",
   "metadata": {},
   "outputs": [
    {
     "name": "stdout",
     "output_type": "stream",
     "text": [
      "<class 'pandas.core.frame.DataFrame'>\n",
      "RangeIndex: 112500 entries, 0 to 112499\n",
      "Data columns (total 12 columns):\n",
      " #   Column                                Non-Null Count   Dtype  \n",
      "---  ------                                --------------   -----  \n",
      " 0   id                                    112500 non-null  int64  \n",
      " 1   SeriousDlqin2yrs                      112500 non-null  int64  \n",
      " 2   RevolvingUtilizationOfUnsecuredLines  112500 non-null  float64\n",
      " 3   age                                   112500 non-null  int64  \n",
      " 4   NumberOfTime30-59DaysPastDueNotWorse  112500 non-null  int64  \n",
      " 5   DebtRatio                             112500 non-null  float64\n",
      " 6   MonthlyIncome                         112500 non-null  float64\n",
      " 7   NumberOfOpenCreditLinesAndLoans       112500 non-null  int64  \n",
      " 8   NumberOfTimes90DaysLate               112500 non-null  int64  \n",
      " 9   NumberRealEstateLoansOrLines          112500 non-null  int64  \n",
      " 10  NumberOfTime60-89DaysPastDueNotWorse  112500 non-null  int64  \n",
      " 11  NumberOfDependents                    112500 non-null  float64\n",
      "dtypes: float64(4), int64(8)\n",
      "memory usage: 10.3 MB\n"
     ]
    }
   ],
   "source": [
    "train.info()"
   ]
  },
  {
   "cell_type": "code",
   "execution_count": 9,
   "id": "39f00721",
   "metadata": {},
   "outputs": [
    {
     "name": "stdout",
     "output_type": "stream",
     "text": [
      "<class 'pandas.core.frame.DataFrame'>\n",
      "RangeIndex: 37500 entries, 0 to 37499\n",
      "Data columns (total 11 columns):\n",
      " #   Column                                Non-Null Count  Dtype  \n",
      "---  ------                                --------------  -----  \n",
      " 0   id                                    37500 non-null  int64  \n",
      " 1   RevolvingUtilizationOfUnsecuredLines  37500 non-null  float64\n",
      " 2   age                                   37500 non-null  int64  \n",
      " 3   NumberOfTime30-59DaysPastDueNotWorse  37500 non-null  int64  \n",
      " 4   DebtRatio                             37500 non-null  float64\n",
      " 5   MonthlyIncome                         37500 non-null  float64\n",
      " 6   NumberOfOpenCreditLinesAndLoans       37500 non-null  int64  \n",
      " 7   NumberOfTimes90DaysLate               37500 non-null  int64  \n",
      " 8   NumberRealEstateLoansOrLines          37500 non-null  int64  \n",
      " 9   NumberOfTime60-89DaysPastDueNotWorse  37500 non-null  int64  \n",
      " 10  NumberOfDependents                    37500 non-null  float64\n",
      "dtypes: float64(4), int64(7)\n",
      "memory usage: 3.1 MB\n"
     ]
    }
   ],
   "source": [
    "test.info()"
   ]
  },
  {
   "cell_type": "markdown",
   "id": "f58965c5",
   "metadata": {},
   "source": [
    "## 3.2. SeriousDlqin2yrs (or Target y) Distribution"
   ]
  },
  {
   "cell_type": "code",
   "execution_count": 10,
   "id": "854bd623",
   "metadata": {},
   "outputs": [
    {
     "data": {
      "image/png": "[encoded data removed]",
      "text/plain": [
       "<Figure size 720x360 with 1 Axes>"
      ]
     },
     "metadata": {
      "needs_background": "light"
     },
     "output_type": "display_data"
    }
   ],
   "source": [
    "ax = sns.countplot(x = train.SeriousDlqin2yrs ,palette=\"Set3\")\n",
    "sns.set(font_scale=1.5)\n",
    "ax.set_ylim(top = 150000)\n",
    "ax.set_xlabel('Financial difficulty in 2 years')\n",
    "ax.set_ylabel('Frequency')\n",
    "fig = plt.gcf()\n",
    "fig.set_size_inches(10,5)\n",
    "ax.set_ylim(top=160000)\n",
    "\n",
    "plt.show()"
   ]
  },
  {
   "cell_type": "markdown",
   "id": "716f8690",
   "metadata": {},
   "source": [
    "## 3.3. Detect & Drop Outliers from train dataset"
   ]
  },
  {
   "cell_type": "code",
   "execution_count": 11,
   "id": "49170271",
   "metadata": {},
   "outputs": [],
   "source": [
    "def detect_outliers(df,n,features):\n",
    "    outlier_indices = []\n",
    "    \n",
    "    # iterate over features(columns)\n",
    "    for col in features:\n",
    "        # 1st quartile (25%)\n",
    "        Q1 = np.percentile(df[col], 25)\n",
    "        # 3rd quartile (75%)\n",
    "        Q3 = np.percentile(df[col],75)\n",
    "        # Interquartile range (IQR)\n",
    "        IQR = Q3 - Q1\n",
    "        \n",
    "        # outlier step\n",
    "        outlier_step = 1.5 * IQR\n",
    "        \n",
    "        # Determine a list of indices of outliers for feature col\n",
    "        outlier_list_col = df[(df[col] < Q1 - outlier_step) | (df[col] > Q3 + outlier_step )].index\n",
    "        \n",
    "        # append the found outlier indices for col to the list of outlier indices \n",
    "        outlier_indices.extend(outlier_list_col)\n",
    "        \n",
    "    # select observations containing more than 2 outliers\n",
    "    outlier_indices = Counter(outlier_indices)        \n",
    "    multiple_outliers = list( k for k, v in outlier_indices.items() if v > n )\n",
    "    \n",
    "    return multiple_outliers\n",
    "\n",
    "# detect outliers from Age, SibSp , Parch and Fare\n",
    "# These are the numerical features present in the dataset\n",
    "Outliers_to_drop_train = detect_outliers(train,2,[\"id\",\n",
    "                                            \"RevolvingUtilizationOfUnsecuredLines\",\n",
    "                                            \"age\",\n",
    "                                            \"NumberOfTime30-59DaysPastDueNotWorse\",\n",
    "                                            \"DebtRatio\",\n",
    "                                            \"MonthlyIncome\",\n",
    "                                            \"NumberOfOpenCreditLinesAndLoans\",\n",
    "                                            \"NumberOfTimes90DaysLate\",\n",
    "                                            \"NumberRealEstateLoansOrLines\",\n",
    "                                            \"NumberOfTime60-89DaysPastDueNotWorse\",\n",
    "                                            \"NumberOfDependents\"])"
   ]
  },
  {
   "cell_type": "code",
   "execution_count": 12,
   "id": "1799937c",
   "metadata": {},
   "outputs": [
    {
     "data": {
      "text/html": [
       "<div>\n",
       "<style scoped>\n",
       "    .dataframe tbody tr th:only-of-type {\n",
       "        vertical-align: middle;\n",
       "    }\n",
       "\n",
       "    .dataframe tbody tr th {\n",
       "        vertical-align: top;\n",
       "    }\n",
       "\n",
       "    .dataframe thead th {\n",
       "        text-align: right;\n",
       "    }\n",
       "</style>\n",
       "<table border=\"1\" class=\"dataframe\">\n",
       "  <thead>\n",
       "    <tr style=\"text-align: right;\">\n",
       "      <th></th>\n",
       "      <th>id</th>\n",
       "      <th>SeriousDlqin2yrs</th>\n",
       "      <th>RevolvingUtilizationOfUnsecuredLines</th>\n",
       "      <th>age</th>\n",
       "      <th>NumberOfTime30-59DaysPastDueNotWorse</th>\n",
       "      <th>DebtRatio</th>\n",
       "      <th>MonthlyIncome</th>\n",
       "      <th>NumberOfOpenCreditLinesAndLoans</th>\n",
       "      <th>NumberOfTimes90DaysLate</th>\n",
       "      <th>NumberRealEstateLoansOrLines</th>\n",
       "      <th>NumberOfTime60-89DaysPastDueNotWorse</th>\n",
       "      <th>NumberOfDependents</th>\n",
       "    </tr>\n",
       "  </thead>\n",
       "  <tbody>\n",
       "    <tr>\n",
       "      <th>659</th>\n",
       "      <td>660</td>\n",
       "      <td>0</td>\n",
       "      <td>2.258964</td>\n",
       "      <td>33</td>\n",
       "      <td>2</td>\n",
       "      <td>0.032484</td>\n",
       "      <td>2000.0</td>\n",
       "      <td>1</td>\n",
       "      <td>1</td>\n",
       "      <td>0</td>\n",
       "      <td>0</td>\n",
       "      <td>2.0</td>\n",
       "    </tr>\n",
       "    <tr>\n",
       "      <th>671</th>\n",
       "      <td>672</td>\n",
       "      <td>1</td>\n",
       "      <td>1.362142</td>\n",
       "      <td>73</td>\n",
       "      <td>1</td>\n",
       "      <td>274.000000</td>\n",
       "      <td>5400.0</td>\n",
       "      <td>2</td>\n",
       "      <td>3</td>\n",
       "      <td>0</td>\n",
       "      <td>1</td>\n",
       "      <td>0.0</td>\n",
       "    </tr>\n",
       "    <tr>\n",
       "      <th>3557</th>\n",
       "      <td>3558</td>\n",
       "      <td>0</td>\n",
       "      <td>3746.000000</td>\n",
       "      <td>52</td>\n",
       "      <td>2</td>\n",
       "      <td>0.481353</td>\n",
       "      <td>2600.0</td>\n",
       "      <td>5</td>\n",
       "      <td>0</td>\n",
       "      <td>1</td>\n",
       "      <td>0</td>\n",
       "      <td>3.0</td>\n",
       "    </tr>\n",
       "    <tr>\n",
       "      <th>3598</th>\n",
       "      <td>3599</td>\n",
       "      <td>0</td>\n",
       "      <td>1.566866</td>\n",
       "      <td>46</td>\n",
       "      <td>2</td>\n",
       "      <td>0.104983</td>\n",
       "      <td>6000.0</td>\n",
       "      <td>3</td>\n",
       "      <td>2</td>\n",
       "      <td>0</td>\n",
       "      <td>0</td>\n",
       "      <td>0.0</td>\n",
       "    </tr>\n",
       "    <tr>\n",
       "      <th>4436</th>\n",
       "      <td>4437</td>\n",
       "      <td>0</td>\n",
       "      <td>2.237856</td>\n",
       "      <td>60</td>\n",
       "      <td>6</td>\n",
       "      <td>2597.000000</td>\n",
       "      <td>1.0</td>\n",
       "      <td>16</td>\n",
       "      <td>1</td>\n",
       "      <td>2</td>\n",
       "      <td>1</td>\n",
       "      <td>4.0</td>\n",
       "    </tr>\n",
       "    <tr>\n",
       "      <th>...</th>\n",
       "      <td>...</td>\n",
       "      <td>...</td>\n",
       "      <td>...</td>\n",
       "      <td>...</td>\n",
       "      <td>...</td>\n",
       "      <td>...</td>\n",
       "      <td>...</td>\n",
       "      <td>...</td>\n",
       "      <td>...</td>\n",
       "      <td>...</td>\n",
       "      <td>...</td>\n",
       "      <td>...</td>\n",
       "    </tr>\n",
       "    <tr>\n",
       "      <th>105057</th>\n",
       "      <td>105058</td>\n",
       "      <td>0</td>\n",
       "      <td>0.786839</td>\n",
       "      <td>32</td>\n",
       "      <td>0</td>\n",
       "      <td>0.071437</td>\n",
       "      <td>9000.0</td>\n",
       "      <td>6</td>\n",
       "      <td>2</td>\n",
       "      <td>0</td>\n",
       "      <td>1</td>\n",
       "      <td>4.0</td>\n",
       "    </tr>\n",
       "    <tr>\n",
       "      <th>106149</th>\n",
       "      <td>106150</td>\n",
       "      <td>1</td>\n",
       "      <td>0.837581</td>\n",
       "      <td>56</td>\n",
       "      <td>0</td>\n",
       "      <td>0.057221</td>\n",
       "      <td>1100.0</td>\n",
       "      <td>2</td>\n",
       "      <td>2</td>\n",
       "      <td>0</td>\n",
       "      <td>1</td>\n",
       "      <td>3.0</td>\n",
       "    </tr>\n",
       "    <tr>\n",
       "      <th>106748</th>\n",
       "      <td>106749</td>\n",
       "      <td>1</td>\n",
       "      <td>0.859714</td>\n",
       "      <td>55</td>\n",
       "      <td>0</td>\n",
       "      <td>0.599348</td>\n",
       "      <td>11046.0</td>\n",
       "      <td>18</td>\n",
       "      <td>7</td>\n",
       "      <td>6</td>\n",
       "      <td>6</td>\n",
       "      <td>1.0</td>\n",
       "    </tr>\n",
       "    <tr>\n",
       "      <th>107923</th>\n",
       "      <td>107924</td>\n",
       "      <td>1</td>\n",
       "      <td>1.000000</td>\n",
       "      <td>38</td>\n",
       "      <td>0</td>\n",
       "      <td>0.250573</td>\n",
       "      <td>5666.0</td>\n",
       "      <td>4</td>\n",
       "      <td>2</td>\n",
       "      <td>1</td>\n",
       "      <td>1</td>\n",
       "      <td>3.0</td>\n",
       "    </tr>\n",
       "    <tr>\n",
       "      <th>109819</th>\n",
       "      <td>109820</td>\n",
       "      <td>0</td>\n",
       "      <td>0.921219</td>\n",
       "      <td>45</td>\n",
       "      <td>0</td>\n",
       "      <td>0.092564</td>\n",
       "      <td>3845.0</td>\n",
       "      <td>3</td>\n",
       "      <td>1</td>\n",
       "      <td>0</td>\n",
       "      <td>1</td>\n",
       "      <td>3.0</td>\n",
       "    </tr>\n",
       "  </tbody>\n",
       "</table>\n",
       "<p>3860 rows × 12 columns</p>\n",
       "</div>"
      ],
      "text/plain": [
       "            id  SeriousDlqin2yrs  RevolvingUtilizationOfUnsecuredLines  age  \\\n",
       "659        660                 0                              2.258964   33   \n",
       "671        672                 1                              1.362142   73   \n",
       "3557      3558                 0                           3746.000000   52   \n",
       "3598      3599                 0                              1.566866   46   \n",
       "4436      4437                 0                              2.237856   60   \n",
       "...        ...               ...                                   ...  ...   \n",
       "105057  105058                 0                              0.786839   32   \n",
       "106149  106150                 1                              0.837581   56   \n",
       "106748  106749                 1                              0.859714   55   \n",
       "107923  107924                 1                              1.000000   38   \n",
       "109819  109820                 0                              0.921219   45   \n",
       "\n",
       "        NumberOfTime30-59DaysPastDueNotWorse    DebtRatio  MonthlyIncome  \\\n",
       "659                                        2     0.032484         2000.0   \n",
       "671                                        1   274.000000         5400.0   \n",
       "3557                                       2     0.481353         2600.0   \n",
       "3598                                       2     0.104983         6000.0   \n",
       "4436                                       6  2597.000000            1.0   \n",
       "...                                      ...          ...            ...   \n",
       "105057                                     0     0.071437         9000.0   \n",
       "106149                                     0     0.057221         1100.0   \n",
       "106748                                     0     0.599348        11046.0   \n",
       "107923                                     0     0.250573         5666.0   \n",
       "109819                                     0     0.092564         3845.0   \n",
       "\n",
       "        NumberOfOpenCreditLinesAndLoans  NumberOfTimes90DaysLate  \\\n",
       "659                                   1                        1   \n",
       "671                                   2                        3   \n",
       "3557                                  5                        0   \n",
       "3598                                  3                        2   \n",
       "4436                                 16                        1   \n",
       "...                                 ...                      ...   \n",
       "105057                                6                        2   \n",
       "106149                                2                        2   \n",
       "106748                               18                        7   \n",
       "107923                                4                        2   \n",
       "109819                                3                        1   \n",
       "\n",
       "        NumberRealEstateLoansOrLines  NumberOfTime60-89DaysPastDueNotWorse  \\\n",
       "659                                0                                     0   \n",
       "671                                0                                     1   \n",
       "3557                               1                                     0   \n",
       "3598                               0                                     0   \n",
       "4436                               2                                     1   \n",
       "...                              ...                                   ...   \n",
       "105057                             0                                     1   \n",
       "106149                             0                                     1   \n",
       "106748                             6                                     6   \n",
       "107923                             1                                     1   \n",
       "109819                             0                                     1   \n",
       "\n",
       "        NumberOfDependents  \n",
       "659                    2.0  \n",
       "671                    0.0  \n",
       "3557                   3.0  \n",
       "3598                   0.0  \n",
       "4436                   4.0  \n",
       "...                    ...  \n",
       "105057                 4.0  \n",
       "106149                 3.0  \n",
       "106748                 1.0  \n",
       "107923                 3.0  \n",
       "109819                 3.0  \n",
       "\n",
       "[3860 rows x 12 columns]"
      ]
     },
     "execution_count": 12,
     "metadata": {},
     "output_type": "execute_result"
    }
   ],
   "source": [
    "train.loc[Outliers_to_drop_train] #Number of Outliers are needed to be dropped out of train dataset"
   ]
  },
  {
   "cell_type": "code",
   "execution_count": 13,
   "id": "285c77fa",
   "metadata": {},
   "outputs": [],
   "source": [
    "#Drop the Outliers\n",
    "train = train.drop(Outliers_to_drop_train, axis = 0).reset_index(drop=True)"
   ]
  },
  {
   "cell_type": "markdown",
   "id": "3cd6f515",
   "metadata": {},
   "source": [
    "## 3.4. Merge Dataset"
   ]
  },
  {
   "cell_type": "code",
   "execution_count": 14,
   "id": "8f6606a6",
   "metadata": {},
   "outputs": [],
   "source": [
    "train_len = len(train)\n",
    "dataset =  pd.concat(objs=[train, test], axis=0).reset_index(drop=True)"
   ]
  },
  {
   "cell_type": "code",
   "execution_count": 15,
   "id": "db2a7d30",
   "metadata": {},
   "outputs": [
    {
     "data": {
      "text/plain": [
       "(146140, 12)"
      ]
     },
     "execution_count": 15,
     "metadata": {},
     "output_type": "execute_result"
    }
   ],
   "source": [
    "dataset.shape"
   ]
  },
  {
   "cell_type": "code",
   "execution_count": 16,
   "id": "7fe05efb",
   "metadata": {},
   "outputs": [
    {
     "data": {
      "text/html": [
       "<div>\n",
       "<style scoped>\n",
       "    .dataframe tbody tr th:only-of-type {\n",
       "        vertical-align: middle;\n",
       "    }\n",
       "\n",
       "    .dataframe tbody tr th {\n",
       "        vertical-align: top;\n",
       "    }\n",
       "\n",
       "    .dataframe thead th {\n",
       "        text-align: right;\n",
       "    }\n",
       "</style>\n",
       "<table border=\"1\" class=\"dataframe\">\n",
       "  <thead>\n",
       "    <tr style=\"text-align: right;\">\n",
       "      <th></th>\n",
       "      <th>id</th>\n",
       "      <th>SeriousDlqin2yrs</th>\n",
       "      <th>RevolvingUtilizationOfUnsecuredLines</th>\n",
       "      <th>age</th>\n",
       "      <th>NumberOfTime30-59DaysPastDueNotWorse</th>\n",
       "      <th>DebtRatio</th>\n",
       "      <th>MonthlyIncome</th>\n",
       "      <th>NumberOfOpenCreditLinesAndLoans</th>\n",
       "      <th>NumberOfTimes90DaysLate</th>\n",
       "      <th>NumberRealEstateLoansOrLines</th>\n",
       "      <th>NumberOfTime60-89DaysPastDueNotWorse</th>\n",
       "      <th>NumberOfDependents</th>\n",
       "    </tr>\n",
       "  </thead>\n",
       "  <tbody>\n",
       "    <tr>\n",
       "      <th>0</th>\n",
       "      <td>1</td>\n",
       "      <td>1.0</td>\n",
       "      <td>0.766127</td>\n",
       "      <td>45</td>\n",
       "      <td>2</td>\n",
       "      <td>0.802982</td>\n",
       "      <td>9120.0</td>\n",
       "      <td>13</td>\n",
       "      <td>0</td>\n",
       "      <td>6</td>\n",
       "      <td>0</td>\n",
       "      <td>2.0</td>\n",
       "    </tr>\n",
       "    <tr>\n",
       "      <th>1</th>\n",
       "      <td>2</td>\n",
       "      <td>0.0</td>\n",
       "      <td>0.957151</td>\n",
       "      <td>40</td>\n",
       "      <td>0</td>\n",
       "      <td>0.121876</td>\n",
       "      <td>2600.0</td>\n",
       "      <td>4</td>\n",
       "      <td>0</td>\n",
       "      <td>0</td>\n",
       "      <td>0</td>\n",
       "      <td>1.0</td>\n",
       "    </tr>\n",
       "    <tr>\n",
       "      <th>2</th>\n",
       "      <td>3</td>\n",
       "      <td>0.0</td>\n",
       "      <td>0.658180</td>\n",
       "      <td>38</td>\n",
       "      <td>1</td>\n",
       "      <td>0.085113</td>\n",
       "      <td>3042.0</td>\n",
       "      <td>2</td>\n",
       "      <td>1</td>\n",
       "      <td>0</td>\n",
       "      <td>0</td>\n",
       "      <td>0.0</td>\n",
       "    </tr>\n",
       "    <tr>\n",
       "      <th>3</th>\n",
       "      <td>4</td>\n",
       "      <td>0.0</td>\n",
       "      <td>0.233810</td>\n",
       "      <td>30</td>\n",
       "      <td>0</td>\n",
       "      <td>0.036050</td>\n",
       "      <td>3300.0</td>\n",
       "      <td>5</td>\n",
       "      <td>0</td>\n",
       "      <td>0</td>\n",
       "      <td>0</td>\n",
       "      <td>0.0</td>\n",
       "    </tr>\n",
       "    <tr>\n",
       "      <th>4</th>\n",
       "      <td>5</td>\n",
       "      <td>0.0</td>\n",
       "      <td>0.907239</td>\n",
       "      <td>49</td>\n",
       "      <td>1</td>\n",
       "      <td>0.024926</td>\n",
       "      <td>63588.0</td>\n",
       "      <td>7</td>\n",
       "      <td>0</td>\n",
       "      <td>1</td>\n",
       "      <td>0</td>\n",
       "      <td>0.0</td>\n",
       "    </tr>\n",
       "    <tr>\n",
       "      <th>...</th>\n",
       "      <td>...</td>\n",
       "      <td>...</td>\n",
       "      <td>...</td>\n",
       "      <td>...</td>\n",
       "      <td>...</td>\n",
       "      <td>...</td>\n",
       "      <td>...</td>\n",
       "      <td>...</td>\n",
       "      <td>...</td>\n",
       "      <td>...</td>\n",
       "      <td>...</td>\n",
       "      <td>...</td>\n",
       "    </tr>\n",
       "    <tr>\n",
       "      <th>146135</th>\n",
       "      <td>37496</td>\n",
       "      <td>NaN</td>\n",
       "      <td>0.917635</td>\n",
       "      <td>52</td>\n",
       "      <td>2</td>\n",
       "      <td>0.259496</td>\n",
       "      <td>14068.0</td>\n",
       "      <td>4</td>\n",
       "      <td>0</td>\n",
       "      <td>0</td>\n",
       "      <td>0</td>\n",
       "      <td>2.0</td>\n",
       "    </tr>\n",
       "    <tr>\n",
       "      <th>146136</th>\n",
       "      <td>37497</td>\n",
       "      <td>NaN</td>\n",
       "      <td>0.224711</td>\n",
       "      <td>55</td>\n",
       "      <td>0</td>\n",
       "      <td>0.057235</td>\n",
       "      <td>11128.0</td>\n",
       "      <td>7</td>\n",
       "      <td>0</td>\n",
       "      <td>0</td>\n",
       "      <td>0</td>\n",
       "      <td>1.0</td>\n",
       "    </tr>\n",
       "    <tr>\n",
       "      <th>146137</th>\n",
       "      <td>37498</td>\n",
       "      <td>NaN</td>\n",
       "      <td>0.954409</td>\n",
       "      <td>26</td>\n",
       "      <td>0</td>\n",
       "      <td>0.324962</td>\n",
       "      <td>1018.0</td>\n",
       "      <td>4</td>\n",
       "      <td>0</td>\n",
       "      <td>0</td>\n",
       "      <td>0</td>\n",
       "      <td>0.0</td>\n",
       "    </tr>\n",
       "    <tr>\n",
       "      <th>146138</th>\n",
       "      <td>37499</td>\n",
       "      <td>NaN</td>\n",
       "      <td>0.385742</td>\n",
       "      <td>50</td>\n",
       "      <td>0</td>\n",
       "      <td>0.404293</td>\n",
       "      <td>2958.0</td>\n",
       "      <td>7</td>\n",
       "      <td>0</td>\n",
       "      <td>0</td>\n",
       "      <td>0</td>\n",
       "      <td>0.0</td>\n",
       "    </tr>\n",
       "    <tr>\n",
       "      <th>146139</th>\n",
       "      <td>37500</td>\n",
       "      <td>NaN</td>\n",
       "      <td>0.850283</td>\n",
       "      <td>64</td>\n",
       "      <td>0</td>\n",
       "      <td>0.249908</td>\n",
       "      <td>5002.0</td>\n",
       "      <td>8</td>\n",
       "      <td>0</td>\n",
       "      <td>2</td>\n",
       "      <td>0</td>\n",
       "      <td>1.0</td>\n",
       "    </tr>\n",
       "  </tbody>\n",
       "</table>\n",
       "<p>146140 rows × 12 columns</p>\n",
       "</div>"
      ],
      "text/plain": [
       "           id  SeriousDlqin2yrs  RevolvingUtilizationOfUnsecuredLines  age  \\\n",
       "0           1               1.0                              0.766127   45   \n",
       "1           2               0.0                              0.957151   40   \n",
       "2           3               0.0                              0.658180   38   \n",
       "3           4               0.0                              0.233810   30   \n",
       "4           5               0.0                              0.907239   49   \n",
       "...       ...               ...                                   ...  ...   \n",
       "146135  37496               NaN                              0.917635   52   \n",
       "146136  37497               NaN                              0.224711   55   \n",
       "146137  37498               NaN                              0.954409   26   \n",
       "146138  37499               NaN                              0.385742   50   \n",
       "146139  37500               NaN                              0.850283   64   \n",
       "\n",
       "        NumberOfTime30-59DaysPastDueNotWorse  DebtRatio  MonthlyIncome  \\\n",
       "0                                          2   0.802982         9120.0   \n",
       "1                                          0   0.121876         2600.0   \n",
       "2                                          1   0.085113         3042.0   \n",
       "3                                          0   0.036050         3300.0   \n",
       "4                                          1   0.024926        63588.0   \n",
       "...                                      ...        ...            ...   \n",
       "146135                                     2   0.259496        14068.0   \n",
       "146136                                     0   0.057235        11128.0   \n",
       "146137                                     0   0.324962         1018.0   \n",
       "146138                                     0   0.404293         2958.0   \n",
       "146139                                     0   0.249908         5002.0   \n",
       "\n",
       "        NumberOfOpenCreditLinesAndLoans  NumberOfTimes90DaysLate  \\\n",
       "0                                    13                        0   \n",
       "1                                     4                        0   \n",
       "2                                     2                        1   \n",
       "3                                     5                        0   \n",
       "4                                     7                        0   \n",
       "...                                 ...                      ...   \n",
       "146135                                4                        0   \n",
       "146136                                7                        0   \n",
       "146137                                4                        0   \n",
       "146138                                7                        0   \n",
       "146139                                8                        0   \n",
       "\n",
       "        NumberRealEstateLoansOrLines  NumberOfTime60-89DaysPastDueNotWorse  \\\n",
       "0                                  6                                     0   \n",
       "1                                  0                                     0   \n",
       "2                                  0                                     0   \n",
       "3                                  0                                     0   \n",
       "4                                  1                                     0   \n",
       "...                              ...                                   ...   \n",
       "146135                             0                                     0   \n",
       "146136                             0                                     0   \n",
       "146137                             0                                     0   \n",
       "146138                             0                                     0   \n",
       "146139                             2                                     0   \n",
       "\n",
       "        NumberOfDependents  \n",
       "0                      2.0  \n",
       "1                      1.0  \n",
       "2                      0.0  \n",
       "3                      0.0  \n",
       "4                      0.0  \n",
       "...                    ...  \n",
       "146135                 2.0  \n",
       "146136                 1.0  \n",
       "146137                 0.0  \n",
       "146138                 0.0  \n",
       "146139                 1.0  \n",
       "\n",
       "[146140 rows x 12 columns]"
      ]
     },
     "execution_count": 16,
     "metadata": {},
     "output_type": "execute_result"
    }
   ],
   "source": [
    "dataset #Dataset with old names"
   ]
  },
  {
   "cell_type": "markdown",
   "id": "a8a448da",
   "metadata": {},
   "source": [
    "Rename the column in a shorter term."
   ]
  },
  {
   "cell_type": "code",
   "execution_count": 17,
   "id": "14ed09b8",
   "metadata": {},
   "outputs": [],
   "source": [
    "dataset = dataset.rename(columns={'SeriousDlqin2yrs': 'Target',\n",
    "                                  'RevolvingUtilizationOfUnsecuredLines': 'UnsecLines',\n",
    "                                  'NumberOfTime30-59DaysPastDueNotWorse': 'Late3059',\n",
    "                                  'DebtRatio': 'DebtRatio',\n",
    "                                  'MonthlyIncome': 'MonthlyIncome',\n",
    "                                  'NumberOfOpenCreditLinesAndLoans': 'OpenCredit',\n",
    "                                  'NumberOfTimes90DaysLate': 'Late90',\n",
    "                                  'NumberRealEstateLoansOrLines': 'PropLines',\n",
    "                                  'NumberOfTime60-89DaysPastDueNotWorse': 'Late6089',\n",
    "                                  'NumberOfDependents': 'Deps'})\n",
    "\n",
    "train = train.rename(columns={'SeriousDlqin2yrs': 'Target',\n",
    "                                  'RevolvingUtilizationOfUnsecuredLines': 'UnsecLines',\n",
    "                                  'NumberOfTime30-59DaysPastDueNotWorse': 'Late3059',\n",
    "                                  'DebtRatio': 'DebtRatio',\n",
    "                                  'MonthlyIncome': 'MonthlyIncome',\n",
    "                                  'NumberOfOpenCreditLinesAndLoans': 'OpenCredit',\n",
    "                                  'NumberOfTimes90DaysLate': 'Late90',\n",
    "                                  'NumberRealEstateLoansOrLines': 'PropLines',\n",
    "                                  'NumberOfTime60-89DaysPastDueNotWorse': 'Late6089',\n",
    "                                  'NumberOfDependents': 'Deps'})\n",
    "\n",
    "test = test.rename(columns={'SeriousDlqin2yrs': 'Target',\n",
    "                                  'RevolvingUtilizationOfUnsecuredLines': 'UnsecLines',\n",
    "                                  'NumberOfTime30-59DaysPastDueNotWorse': 'Late3059',\n",
    "                                  'DebtRatio': 'DebtRatio',\n",
    "                                  'MonthlyIncome': 'MonthlyIncome',\n",
    "                                  'NumberOfOpenCreditLinesAndLoans': 'OpenCredit',\n",
    "                                  'NumberOfTimes90DaysLate': 'Late90',\n",
    "                                  'NumberRealEstateLoansOrLines': 'PropLines',\n",
    "                                  'NumberOfTime60-89DaysPastDueNotWorse': 'Late6089',\n",
    "                                  'NumberOfDependents': 'Deps'})"
   ]
  },
  {
   "cell_type": "code",
   "execution_count": 18,
   "id": "aa4da554",
   "metadata": {},
   "outputs": [
    {
     "data": {
      "text/html": [
       "<div>\n",
       "<style scoped>\n",
       "    .dataframe tbody tr th:only-of-type {\n",
       "        vertical-align: middle;\n",
       "    }\n",
       "\n",
       "    .dataframe tbody tr th {\n",
       "        vertical-align: top;\n",
       "    }\n",
       "\n",
       "    .dataframe thead th {\n",
       "        text-align: right;\n",
       "    }\n",
       "</style>\n",
       "<table border=\"1\" class=\"dataframe\">\n",
       "  <thead>\n",
       "    <tr style=\"text-align: right;\">\n",
       "      <th></th>\n",
       "      <th>id</th>\n",
       "      <th>Target</th>\n",
       "      <th>UnsecLines</th>\n",
       "      <th>age</th>\n",
       "      <th>Late3059</th>\n",
       "      <th>DebtRatio</th>\n",
       "      <th>MonthlyIncome</th>\n",
       "      <th>OpenCredit</th>\n",
       "      <th>Late90</th>\n",
       "      <th>PropLines</th>\n",
       "      <th>Late6089</th>\n",
       "      <th>Deps</th>\n",
       "    </tr>\n",
       "  </thead>\n",
       "  <tbody>\n",
       "    <tr>\n",
       "      <th>0</th>\n",
       "      <td>1</td>\n",
       "      <td>1.0</td>\n",
       "      <td>0.766127</td>\n",
       "      <td>45</td>\n",
       "      <td>2</td>\n",
       "      <td>0.802982</td>\n",
       "      <td>9120.0</td>\n",
       "      <td>13</td>\n",
       "      <td>0</td>\n",
       "      <td>6</td>\n",
       "      <td>0</td>\n",
       "      <td>2.0</td>\n",
       "    </tr>\n",
       "    <tr>\n",
       "      <th>1</th>\n",
       "      <td>2</td>\n",
       "      <td>0.0</td>\n",
       "      <td>0.957151</td>\n",
       "      <td>40</td>\n",
       "      <td>0</td>\n",
       "      <td>0.121876</td>\n",
       "      <td>2600.0</td>\n",
       "      <td>4</td>\n",
       "      <td>0</td>\n",
       "      <td>0</td>\n",
       "      <td>0</td>\n",
       "      <td>1.0</td>\n",
       "    </tr>\n",
       "    <tr>\n",
       "      <th>2</th>\n",
       "      <td>3</td>\n",
       "      <td>0.0</td>\n",
       "      <td>0.658180</td>\n",
       "      <td>38</td>\n",
       "      <td>1</td>\n",
       "      <td>0.085113</td>\n",
       "      <td>3042.0</td>\n",
       "      <td>2</td>\n",
       "      <td>1</td>\n",
       "      <td>0</td>\n",
       "      <td>0</td>\n",
       "      <td>0.0</td>\n",
       "    </tr>\n",
       "    <tr>\n",
       "      <th>3</th>\n",
       "      <td>4</td>\n",
       "      <td>0.0</td>\n",
       "      <td>0.233810</td>\n",
       "      <td>30</td>\n",
       "      <td>0</td>\n",
       "      <td>0.036050</td>\n",
       "      <td>3300.0</td>\n",
       "      <td>5</td>\n",
       "      <td>0</td>\n",
       "      <td>0</td>\n",
       "      <td>0</td>\n",
       "      <td>0.0</td>\n",
       "    </tr>\n",
       "    <tr>\n",
       "      <th>4</th>\n",
       "      <td>5</td>\n",
       "      <td>0.0</td>\n",
       "      <td>0.907239</td>\n",
       "      <td>49</td>\n",
       "      <td>1</td>\n",
       "      <td>0.024926</td>\n",
       "      <td>63588.0</td>\n",
       "      <td>7</td>\n",
       "      <td>0</td>\n",
       "      <td>1</td>\n",
       "      <td>0</td>\n",
       "      <td>0.0</td>\n",
       "    </tr>\n",
       "    <tr>\n",
       "      <th>...</th>\n",
       "      <td>...</td>\n",
       "      <td>...</td>\n",
       "      <td>...</td>\n",
       "      <td>...</td>\n",
       "      <td>...</td>\n",
       "      <td>...</td>\n",
       "      <td>...</td>\n",
       "      <td>...</td>\n",
       "      <td>...</td>\n",
       "      <td>...</td>\n",
       "      <td>...</td>\n",
       "      <td>...</td>\n",
       "    </tr>\n",
       "    <tr>\n",
       "      <th>146135</th>\n",
       "      <td>37496</td>\n",
       "      <td>NaN</td>\n",
       "      <td>0.917635</td>\n",
       "      <td>52</td>\n",
       "      <td>2</td>\n",
       "      <td>0.259496</td>\n",
       "      <td>14068.0</td>\n",
       "      <td>4</td>\n",
       "      <td>0</td>\n",
       "      <td>0</td>\n",
       "      <td>0</td>\n",
       "      <td>2.0</td>\n",
       "    </tr>\n",
       "    <tr>\n",
       "      <th>146136</th>\n",
       "      <td>37497</td>\n",
       "      <td>NaN</td>\n",
       "      <td>0.224711</td>\n",
       "      <td>55</td>\n",
       "      <td>0</td>\n",
       "      <td>0.057235</td>\n",
       "      <td>11128.0</td>\n",
       "      <td>7</td>\n",
       "      <td>0</td>\n",
       "      <td>0</td>\n",
       "      <td>0</td>\n",
       "      <td>1.0</td>\n",
       "    </tr>\n",
       "    <tr>\n",
       "      <th>146137</th>\n",
       "      <td>37498</td>\n",
       "      <td>NaN</td>\n",
       "      <td>0.954409</td>\n",
       "      <td>26</td>\n",
       "      <td>0</td>\n",
       "      <td>0.324962</td>\n",
       "      <td>1018.0</td>\n",
       "      <td>4</td>\n",
       "      <td>0</td>\n",
       "      <td>0</td>\n",
       "      <td>0</td>\n",
       "      <td>0.0</td>\n",
       "    </tr>\n",
       "    <tr>\n",
       "      <th>146138</th>\n",
       "      <td>37499</td>\n",
       "      <td>NaN</td>\n",
       "      <td>0.385742</td>\n",
       "      <td>50</td>\n",
       "      <td>0</td>\n",
       "      <td>0.404293</td>\n",
       "      <td>2958.0</td>\n",
       "      <td>7</td>\n",
       "      <td>0</td>\n",
       "      <td>0</td>\n",
       "      <td>0</td>\n",
       "      <td>0.0</td>\n",
       "    </tr>\n",
       "    <tr>\n",
       "      <th>146139</th>\n",
       "      <td>37500</td>\n",
       "      <td>NaN</td>\n",
       "      <td>0.850283</td>\n",
       "      <td>64</td>\n",
       "      <td>0</td>\n",
       "      <td>0.249908</td>\n",
       "      <td>5002.0</td>\n",
       "      <td>8</td>\n",
       "      <td>0</td>\n",
       "      <td>2</td>\n",
       "      <td>0</td>\n",
       "      <td>1.0</td>\n",
       "    </tr>\n",
       "  </tbody>\n",
       "</table>\n",
       "<p>146140 rows × 12 columns</p>\n",
       "</div>"
      ],
      "text/plain": [
       "           id  Target  UnsecLines  age  Late3059  DebtRatio  MonthlyIncome  \\\n",
       "0           1     1.0    0.766127   45         2   0.802982         9120.0   \n",
       "1           2     0.0    0.957151   40         0   0.121876         2600.0   \n",
       "2           3     0.0    0.658180   38         1   0.085113         3042.0   \n",
       "3           4     0.0    0.233810   30         0   0.036050         3300.0   \n",
       "4           5     0.0    0.907239   49         1   0.024926        63588.0   \n",
       "...       ...     ...         ...  ...       ...        ...            ...   \n",
       "146135  37496     NaN    0.917635   52         2   0.259496        14068.0   \n",
       "146136  37497     NaN    0.224711   55         0   0.057235        11128.0   \n",
       "146137  37498     NaN    0.954409   26         0   0.324962         1018.0   \n",
       "146138  37499     NaN    0.385742   50         0   0.404293         2958.0   \n",
       "146139  37500     NaN    0.850283   64         0   0.249908         5002.0   \n",
       "\n",
       "        OpenCredit  Late90  PropLines  Late6089  Deps  \n",
       "0               13       0          6         0   2.0  \n",
       "1                4       0          0         0   1.0  \n",
       "2                2       1          0         0   0.0  \n",
       "3                5       0          0         0   0.0  \n",
       "4                7       0          1         0   0.0  \n",
       "...            ...     ...        ...       ...   ...  \n",
       "146135           4       0          0         0   2.0  \n",
       "146136           7       0          0         0   1.0  \n",
       "146137           4       0          0         0   0.0  \n",
       "146138           7       0          0         0   0.0  \n",
       "146139           8       0          2         0   1.0  \n",
       "\n",
       "[146140 rows x 12 columns]"
      ]
     },
     "execution_count": 18,
     "metadata": {},
     "output_type": "execute_result"
    }
   ],
   "source": [
    "dataset #Dataset with new names"
   ]
  },
  {
   "cell_type": "markdown",
   "id": "dc217b68",
   "metadata": {},
   "source": [
    "# 4. Exploratory Data Analysis"
   ]
  },
  {
   "cell_type": "markdown",
   "id": "19b9e13e",
   "metadata": {},
   "source": [
    "## 4.1. Data Transformation (1) & Data Visualization"
   ]
  },
  {
   "cell_type": "markdown",
   "id": "da64d455",
   "metadata": {},
   "source": [
    "Discretize each column of the \"dataset\" DataFrame into # binds based on the distribution of the data or specific situation.\n",
    "This will effectively transform the continuous \"Input\" variable into a categorical one with several levels."
   ]
  },
  {
   "cell_type": "markdown",
   "id": "840dde7f",
   "metadata": {},
   "source": [
    "1. UnsecLines"
   ]
  },
  {
   "cell_type": "code",
   "execution_count": 19,
   "id": "6ecba2e2",
   "metadata": {},
   "outputs": [],
   "source": [
    "#UnsecLines\n",
    "dataset.UnsecLines = pd.qcut(dataset.UnsecLines.values, 5).codes"
   ]
  },
  {
   "cell_type": "code",
   "execution_count": 20,
   "id": "53f67a60",
   "metadata": {},
   "outputs": [
    {
     "data": {
      "text/plain": [
       "<seaborn.axisgrid.FacetGrid at 0x1e195121480>"
      ]
     },
     "execution_count": 20,
     "metadata": {},
     "output_type": "execute_result"
    },
    {
     "data": {
      "image/png": "[encoded data removed]",
      "text/plain": [
       "<Figure size 432x432 with 1 Axes>"
      ]
     },
     "metadata": {},
     "output_type": "display_data"
    }
   ],
   "source": [
    "# Explore UnsecLines feature vs Target\n",
    "g = sns.catplot(x=\"UnsecLines\", y=\"Target\", data=dataset, kind=\"bar\", height=6, palette=\"muted\")\n",
    "g.despine(left=True)\n",
    "g.set_ylabels(\"Target probability\")"
   ]
  },
  {
   "cell_type": "markdown",
   "id": "6c0c3b3c",
   "metadata": {},
   "source": [
    "2. age"
   ]
  },
  {
   "cell_type": "code",
   "execution_count": 21,
   "id": "28e868f1",
   "metadata": {},
   "outputs": [],
   "source": [
    "#age\n",
    "dataset.age = pd.qcut(dataset.age.values, 5).codes"
   ]
  },
  {
   "cell_type": "code",
   "execution_count": 22,
   "id": "e31479d5",
   "metadata": {},
   "outputs": [
    {
     "data": {
      "text/plain": [
       "<seaborn.axisgrid.FacetGrid at 0x1e195120d60>"
      ]
     },
     "execution_count": 22,
     "metadata": {},
     "output_type": "execute_result"
    },
    {
     "data": {
      "image/png": "[encoded data removed]",
      "text/plain": [
       "<Figure size 432x432 with 1 Axes>"
      ]
     },
     "metadata": {},
     "output_type": "display_data"
    }
   ],
   "source": [
    "# Explore age feature quantiles vs Target\n",
    "g = sns.catplot(x=\"age\", y=\"Target\", data=dataset, kind=\"bar\", height=6, palette=\"muted\")\n",
    "g.despine(left=True)\n",
    "g.set_ylabels(\"Target probability\")"
   ]
  },
  {
   "cell_type": "markdown",
   "id": "57ca6d9c",
   "metadata": {},
   "source": [
    "3. Late3059"
   ]
  },
  {
   "cell_type": "code",
   "execution_count": 23,
   "id": "667f5539",
   "metadata": {},
   "outputs": [
    {
     "name": "stderr",
     "output_type": "stream",
     "text": [
      "C:\\Users\\gfan1\\AppData\\Local\\Temp\\ipykernel_25380\\3878552743.py:4: SettingWithCopyWarning: \n",
      "A value is trying to be set on a copy of a slice from a DataFrame\n",
      "\n",
      "See the caveats in the documentation: https://pandas.pydata.org/pandas-docs/stable/user_guide/indexing.html#returning-a-view-versus-a-copy\n",
      "  dataset.Late3059[i] = 6\n"
     ]
    }
   ],
   "source": [
    "#Late3059\n",
    "for i in range(len(dataset)):\n",
    "    if dataset.Late3059[i] >= 6:\n",
    "        dataset.Late3059[i] = 6"
   ]
  },
  {
   "cell_type": "code",
   "execution_count": 24,
   "id": "74732819",
   "metadata": {},
   "outputs": [
    {
     "data": {
      "text/plain": [
       "<seaborn.axisgrid.FacetGrid at 0x1e195f5bb80>"
      ]
     },
     "execution_count": 24,
     "metadata": {},
     "output_type": "execute_result"
    },
    {
     "data": {
      "image/png": "[encoded data removed]",
      "text/plain": [
       "<Figure size 432x432 with 1 Axes>"
      ]
     },
     "metadata": {},
     "output_type": "display_data"
    }
   ],
   "source": [
    "# Explore Late3059 feature vs Target\n",
    "g = sns.catplot(x=\"Late3059\", y=\"Target\", data=dataset, kind=\"bar\", height=6, palette=\"muted\")\n",
    "g.despine(left=True)\n",
    "g.set_ylabels(\"Target probability\")"
   ]
  },
  {
   "cell_type": "markdown",
   "id": "017ae9eb",
   "metadata": {},
   "source": [
    "4. DebtRatio"
   ]
  },
  {
   "cell_type": "code",
   "execution_count": 25,
   "id": "5b7af2be",
   "metadata": {},
   "outputs": [],
   "source": [
    "#DebtRatio\n",
    "dataset.DebtRatio = pd.qcut(dataset.DebtRatio.values, 5).codes"
   ]
  },
  {
   "cell_type": "code",
   "execution_count": 26,
   "id": "4f9dcb2a",
   "metadata": {},
   "outputs": [
    {
     "data": {
      "text/plain": [
       "<seaborn.axisgrid.FacetGrid at 0x1e195ecb370>"
      ]
     },
     "execution_count": 26,
     "metadata": {},
     "output_type": "execute_result"
    },
    {
     "data": {
      "image/png": "[encoded data removed]",
      "text/plain": [
       "<Figure size 432x432 with 1 Axes>"
      ]
     },
     "metadata": {},
     "output_type": "display_data"
    }
   ],
   "source": [
    "# Explore DebtRatio feature quantiles vs Target\n",
    "g = sns.catplot(x=\"DebtRatio\", y=\"Target\", data=dataset, kind=\"bar\", height=6, palette=\"muted\")\n",
    "g.despine(left=True)\n",
    "g.set_ylabels(\"Target probability\")"
   ]
  },
  {
   "cell_type": "markdown",
   "id": "3b284f14",
   "metadata": {},
   "source": [
    "5. Monthly Income"
   ]
  },
  {
   "cell_type": "code",
   "execution_count": 27,
   "id": "212af1df",
   "metadata": {},
   "outputs": [],
   "source": [
    "#MonthlyIncome\n",
    "dataset.MonthlyIncome = pd.qcut(dataset.MonthlyIncome.values, 5).codes"
   ]
  },
  {
   "cell_type": "code",
   "execution_count": 28,
   "id": "b632ed24",
   "metadata": {},
   "outputs": [
    {
     "data": {
      "text/plain": [
       "<seaborn.axisgrid.FacetGrid at 0x1e195f59c00>"
      ]
     },
     "execution_count": 28,
     "metadata": {},
     "output_type": "execute_result"
    },
    {
     "data": {
      "image/png": "[encoded data removed]",
      "text/plain": [
       "<Figure size 432x432 with 1 Axes>"
      ]
     },
     "metadata": {},
     "output_type": "display_data"
    }
   ],
   "source": [
    "# Explore MonthlyIncome feature quantiles vs Target\n",
    "g = sns.catplot(x=\"MonthlyIncome\", y=\"Target\", data=dataset, kind=\"bar\", height=6, palette=\"muted\")\n",
    "g.despine(left=True)\n",
    "g.set_ylabels(\"Target probability\")"
   ]
  },
  {
   "cell_type": "markdown",
   "id": "1c0ce10f",
   "metadata": {},
   "source": [
    "6. OpenCredit"
   ]
  },
  {
   "cell_type": "code",
   "execution_count": 29,
   "id": "7afd681e",
   "metadata": {},
   "outputs": [],
   "source": [
    "#OpenCredit\n",
    "dataset.OpenCredit = pd.qcut(dataset.OpenCredit.values, 5).codes"
   ]
  },
  {
   "cell_type": "code",
   "execution_count": 30,
   "id": "3e3a8a3d",
   "metadata": {},
   "outputs": [
    {
     "data": {
      "text/plain": [
       "<seaborn.axisgrid.FacetGrid at 0x1e19725fdc0>"
      ]
     },
     "execution_count": 30,
     "metadata": {},
     "output_type": "execute_result"
    },
    {
     "data": {
      "image/png": "[encoded data removed]",
      "text/plain": [
       "<Figure size 432x432 with 1 Axes>"
      ]
     },
     "metadata": {},
     "output_type": "display_data"
    }
   ],
   "source": [
    "# Explore OpenCredit feature quantiles vs Target\n",
    "g = sns.catplot(x=\"OpenCredit\", y=\"Target\", data=dataset, kind=\"bar\", height=6, palette=\"muted\")\n",
    "g.despine(left=True)\n",
    "g.set_ylabels(\"Target probability\")"
   ]
  },
  {
   "cell_type": "markdown",
   "id": "3070ee3d",
   "metadata": {},
   "source": [
    "7. Late90"
   ]
  },
  {
   "cell_type": "code",
   "execution_count": 31,
   "id": "afa1dc72",
   "metadata": {},
   "outputs": [
    {
     "name": "stderr",
     "output_type": "stream",
     "text": [
      "C:\\Users\\gfan1\\AppData\\Local\\Temp\\ipykernel_25380\\1468732869.py:4: SettingWithCopyWarning: \n",
      "A value is trying to be set on a copy of a slice from a DataFrame\n",
      "\n",
      "See the caveats in the documentation: https://pandas.pydata.org/pandas-docs/stable/user_guide/indexing.html#returning-a-view-versus-a-copy\n",
      "  dataset.Late90[i] = 5\n"
     ]
    }
   ],
   "source": [
    "#Late90\n",
    "for i in range(len(dataset)):\n",
    "    if dataset.Late90[i] >= 5:\n",
    "        dataset.Late90[i] = 5"
   ]
  },
  {
   "cell_type": "code",
   "execution_count": 32,
   "id": "4708e4b3",
   "metadata": {},
   "outputs": [
    {
     "data": {
      "text/plain": [
       "<seaborn.axisgrid.FacetGrid at 0x1e197571150>"
      ]
     },
     "execution_count": 32,
     "metadata": {},
     "output_type": "execute_result"
    },
    {
     "data": {
      "image/png": "[encoded data removed]",
      "text/plain": [
       "<Figure size 432x432 with 1 Axes>"
      ]
     },
     "metadata": {},
     "output_type": "display_data"
    }
   ],
   "source": [
    "# Explore Late90 feature quantiles vs Target\n",
    "g = sns.catplot(x=\"Late90\", y=\"Target\", data=dataset, kind=\"bar\", height=6, palette=\"muted\")\n",
    "g.despine(left=True)\n",
    "g.set_ylabels(\"Target probability\")"
   ]
  },
  {
   "cell_type": "markdown",
   "id": "e4b72a41",
   "metadata": {},
   "source": [
    "8. PropLines"
   ]
  },
  {
   "cell_type": "code",
   "execution_count": 33,
   "id": "7ae5bc7c",
   "metadata": {},
   "outputs": [
    {
     "name": "stderr",
     "output_type": "stream",
     "text": [
      "C:\\Users\\gfan1\\AppData\\Local\\Temp\\ipykernel_25380\\2709593867.py:4: SettingWithCopyWarning: \n",
      "A value is trying to be set on a copy of a slice from a DataFrame\n",
      "\n",
      "See the caveats in the documentation: https://pandas.pydata.org/pandas-docs/stable/user_guide/indexing.html#returning-a-view-versus-a-copy\n",
      "  dataset.PropLines[i] = 6\n"
     ]
    }
   ],
   "source": [
    "#PropLines\n",
    "for i in range(len(dataset)):\n",
    "    if dataset.PropLines[i] >= 6:\n",
    "        dataset.PropLines[i] = 6"
   ]
  },
  {
   "cell_type": "code",
   "execution_count": 34,
   "id": "6a18c4e2",
   "metadata": {},
   "outputs": [
    {
     "data": {
      "text/plain": [
       "<seaborn.axisgrid.FacetGrid at 0x1e1975ddc00>"
      ]
     },
     "execution_count": 34,
     "metadata": {},
     "output_type": "execute_result"
    },
    {
     "data": {
      "image/png": "[encoded data removed]",
      "text/plain": [
       "<Figure size 432x432 with 1 Axes>"
      ]
     },
     "metadata": {},
     "output_type": "display_data"
    }
   ],
   "source": [
    "# Explore PropLines feature quantiles vs Target\n",
    "g = sns.catplot(x=\"PropLines\", y=\"Target\", data=dataset, kind=\"bar\", height=6, palette=\"muted\")\n",
    "g.despine(left=True)\n",
    "g.set_ylabels(\"Target probability\")"
   ]
  },
  {
   "cell_type": "markdown",
   "id": "eb27a33c",
   "metadata": {},
   "source": [
    "9. Late6089"
   ]
  },
  {
   "cell_type": "code",
   "execution_count": 35,
   "id": "898033cc",
   "metadata": {},
   "outputs": [
    {
     "name": "stderr",
     "output_type": "stream",
     "text": [
      "C:\\Users\\gfan1\\AppData\\Local\\Temp\\ipykernel_25380\\2809365270.py:4: SettingWithCopyWarning: \n",
      "A value is trying to be set on a copy of a slice from a DataFrame\n",
      "\n",
      "See the caveats in the documentation: https://pandas.pydata.org/pandas-docs/stable/user_guide/indexing.html#returning-a-view-versus-a-copy\n",
      "  dataset.Late6089[i] = 3\n"
     ]
    }
   ],
   "source": [
    "#Late6089\n",
    "for i in range(len(dataset)):\n",
    "    if dataset.Late6089[i] >= 3:\n",
    "        dataset.Late6089[i] = 3"
   ]
  },
  {
   "cell_type": "code",
   "execution_count": 36,
   "id": "d3d1466e",
   "metadata": {},
   "outputs": [
    {
     "data": {
      "text/plain": [
       "<seaborn.axisgrid.FacetGrid at 0x1e1972ad5d0>"
      ]
     },
     "execution_count": 36,
     "metadata": {},
     "output_type": "execute_result"
    },
    {
     "data": {
      "image/png": "[encoded data removed]",
      "text/plain": [
       "<Figure size 432x432 with 1 Axes>"
      ]
     },
     "metadata": {},
     "output_type": "display_data"
    }
   ],
   "source": [
    "# Explore Late6089 feature quantiles vs Target\n",
    "g = sns.catplot(x=\"Late6089\", y=\"Target\", data=dataset, kind=\"bar\", height=6, palette=\"muted\")\n",
    "g.despine(left=True)\n",
    "g.set_ylabels(\"Target probability\")"
   ]
  },
  {
   "cell_type": "markdown",
   "id": "585a1506",
   "metadata": {},
   "source": [
    "10. Deps"
   ]
  },
  {
   "cell_type": "code",
   "execution_count": 37,
   "id": "e2089746",
   "metadata": {},
   "outputs": [
    {
     "name": "stderr",
     "output_type": "stream",
     "text": [
      "C:\\Users\\gfan1\\AppData\\Local\\Temp\\ipykernel_25380\\340784157.py:4: SettingWithCopyWarning: \n",
      "A value is trying to be set on a copy of a slice from a DataFrame\n",
      "\n",
      "See the caveats in the documentation: https://pandas.pydata.org/pandas-docs/stable/user_guide/indexing.html#returning-a-view-versus-a-copy\n",
      "  dataset.Deps[i] = 4\n"
     ]
    }
   ],
   "source": [
    "#Deps\n",
    "for i in range(len(dataset)):\n",
    "    if dataset.Deps[i] >= 4:\n",
    "        dataset.Deps[i] = 4"
   ]
  },
  {
   "cell_type": "code",
   "execution_count": 38,
   "id": "b375e343",
   "metadata": {},
   "outputs": [
    {
     "data": {
      "text/plain": [
       "<seaborn.axisgrid.FacetGrid at 0x1e195ecb0a0>"
      ]
     },
     "execution_count": 38,
     "metadata": {},
     "output_type": "execute_result"
    },
    {
     "data": {
      "image/png": "[encoded data removed]",
      "text/plain": [
       "<Figure size 432x432 with 1 Axes>"
      ]
     },
     "metadata": {},
     "output_type": "display_data"
    }
   ],
   "source": [
    "# Explore Deps feature quantiles vs Target\n",
    "g = sns.catplot(x=\"Deps\", y=\"Target\", data=dataset, kind=\"bar\", height=6, palette=\"muted\")\n",
    "g.despine(left=True)\n",
    "g.set_ylabels(\"Target probability\")"
   ]
  },
  {
   "cell_type": "markdown",
   "id": "e51689ad",
   "metadata": {},
   "source": [
    "## 4.2. Descriptive Statistics"
   ]
  },
  {
   "cell_type": "code",
   "execution_count": 39,
   "id": "8b66df9b",
   "metadata": {},
   "outputs": [
    {
     "data": {
      "text/html": [
       "<div>\n",
       "<style scoped>\n",
       "    .dataframe tbody tr th:only-of-type {\n",
       "        vertical-align: middle;\n",
       "    }\n",
       "\n",
       "    .dataframe tbody tr th {\n",
       "        vertical-align: top;\n",
       "    }\n",
       "\n",
       "    .dataframe thead th {\n",
       "        text-align: right;\n",
       "    }\n",
       "</style>\n",
       "<table border=\"1\" class=\"dataframe\">\n",
       "  <thead>\n",
       "    <tr style=\"text-align: right;\">\n",
       "      <th></th>\n",
       "      <th>id</th>\n",
       "      <th>Target</th>\n",
       "      <th>UnsecLines</th>\n",
       "      <th>age</th>\n",
       "      <th>Late3059</th>\n",
       "      <th>DebtRatio</th>\n",
       "      <th>MonthlyIncome</th>\n",
       "      <th>OpenCredit</th>\n",
       "      <th>Late90</th>\n",
       "      <th>PropLines</th>\n",
       "      <th>Late6089</th>\n",
       "      <th>Deps</th>\n",
       "    </tr>\n",
       "  </thead>\n",
       "  <tbody>\n",
       "    <tr>\n",
       "      <th>count</th>\n",
       "      <td>146140.000000</td>\n",
       "      <td>108640.000000</td>\n",
       "      <td>146140.000000</td>\n",
       "      <td>146140.000000</td>\n",
       "      <td>146140.000000</td>\n",
       "      <td>146140.000000</td>\n",
       "      <td>146140.000000</td>\n",
       "      <td>146140.000000</td>\n",
       "      <td>146140.000000</td>\n",
       "      <td>146140.000000</td>\n",
       "      <td>146140.000000</td>\n",
       "      <td>146140.000000</td>\n",
       "    </tr>\n",
       "    <tr>\n",
       "      <th>mean</th>\n",
       "      <td>46624.396004</td>\n",
       "      <td>0.054943</td>\n",
       "      <td>2.000000</td>\n",
       "      <td>1.961072</td>\n",
       "      <td>0.212324</td>\n",
       "      <td>2.000000</td>\n",
       "      <td>1.996859</td>\n",
       "      <td>1.909826</td>\n",
       "      <td>0.065417</td>\n",
       "      <td>1.000500</td>\n",
       "      <td>0.044252</td>\n",
       "      <td>0.711640</td>\n",
       "    </tr>\n",
       "    <tr>\n",
       "      <th>std</th>\n",
       "      <td>32892.124178</td>\n",
       "      <td>0.227870</td>\n",
       "      <td>1.414218</td>\n",
       "      <td>1.422963</td>\n",
       "      <td>0.633802</td>\n",
       "      <td>1.414218</td>\n",
       "      <td>1.414962</td>\n",
       "      <td>1.398942</td>\n",
       "      <td>0.380235</td>\n",
       "      <td>1.023362</td>\n",
       "      <td>0.252900</td>\n",
       "      <td>1.052535</td>\n",
       "    </tr>\n",
       "    <tr>\n",
       "      <th>min</th>\n",
       "      <td>1.000000</td>\n",
       "      <td>0.000000</td>\n",
       "      <td>0.000000</td>\n",
       "      <td>0.000000</td>\n",
       "      <td>0.000000</td>\n",
       "      <td>0.000000</td>\n",
       "      <td>0.000000</td>\n",
       "      <td>0.000000</td>\n",
       "      <td>0.000000</td>\n",
       "      <td>0.000000</td>\n",
       "      <td>0.000000</td>\n",
       "      <td>0.000000</td>\n",
       "    </tr>\n",
       "    <tr>\n",
       "      <th>25%</th>\n",
       "      <td>18591.000000</td>\n",
       "      <td>0.000000</td>\n",
       "      <td>1.000000</td>\n",
       "      <td>1.000000</td>\n",
       "      <td>0.000000</td>\n",
       "      <td>1.000000</td>\n",
       "      <td>1.000000</td>\n",
       "      <td>1.000000</td>\n",
       "      <td>0.000000</td>\n",
       "      <td>0.000000</td>\n",
       "      <td>0.000000</td>\n",
       "      <td>0.000000</td>\n",
       "    </tr>\n",
       "    <tr>\n",
       "      <th>50%</th>\n",
       "      <td>37172.500000</td>\n",
       "      <td>0.000000</td>\n",
       "      <td>2.000000</td>\n",
       "      <td>2.000000</td>\n",
       "      <td>0.000000</td>\n",
       "      <td>2.000000</td>\n",
       "      <td>2.000000</td>\n",
       "      <td>2.000000</td>\n",
       "      <td>0.000000</td>\n",
       "      <td>1.000000</td>\n",
       "      <td>0.000000</td>\n",
       "      <td>0.000000</td>\n",
       "    </tr>\n",
       "    <tr>\n",
       "      <th>75%</th>\n",
       "      <td>74656.250000</td>\n",
       "      <td>0.000000</td>\n",
       "      <td>3.000000</td>\n",
       "      <td>3.000000</td>\n",
       "      <td>0.000000</td>\n",
       "      <td>3.000000</td>\n",
       "      <td>3.000000</td>\n",
       "      <td>3.000000</td>\n",
       "      <td>0.000000</td>\n",
       "      <td>2.000000</td>\n",
       "      <td>0.000000</td>\n",
       "      <td>1.000000</td>\n",
       "    </tr>\n",
       "    <tr>\n",
       "      <th>max</th>\n",
       "      <td>112500.000000</td>\n",
       "      <td>1.000000</td>\n",
       "      <td>4.000000</td>\n",
       "      <td>4.000000</td>\n",
       "      <td>6.000000</td>\n",
       "      <td>4.000000</td>\n",
       "      <td>4.000000</td>\n",
       "      <td>4.000000</td>\n",
       "      <td>5.000000</td>\n",
       "      <td>6.000000</td>\n",
       "      <td>3.000000</td>\n",
       "      <td>4.000000</td>\n",
       "    </tr>\n",
       "  </tbody>\n",
       "</table>\n",
       "</div>"
      ],
      "text/plain": [
       "                  id         Target     UnsecLines            age  \\\n",
       "count  146140.000000  108640.000000  146140.000000  146140.000000   \n",
       "mean    46624.396004       0.054943       2.000000       1.961072   \n",
       "std     32892.124178       0.227870       1.414218       1.422963   \n",
       "min         1.000000       0.000000       0.000000       0.000000   \n",
       "25%     18591.000000       0.000000       1.000000       1.000000   \n",
       "50%     37172.500000       0.000000       2.000000       2.000000   \n",
       "75%     74656.250000       0.000000       3.000000       3.000000   \n",
       "max    112500.000000       1.000000       4.000000       4.000000   \n",
       "\n",
       "            Late3059      DebtRatio  MonthlyIncome     OpenCredit  \\\n",
       "count  146140.000000  146140.000000  146140.000000  146140.000000   \n",
       "mean        0.212324       2.000000       1.996859       1.909826   \n",
       "std         0.633802       1.414218       1.414962       1.398942   \n",
       "min         0.000000       0.000000       0.000000       0.000000   \n",
       "25%         0.000000       1.000000       1.000000       1.000000   \n",
       "50%         0.000000       2.000000       2.000000       2.000000   \n",
       "75%         0.000000       3.000000       3.000000       3.000000   \n",
       "max         6.000000       4.000000       4.000000       4.000000   \n",
       "\n",
       "              Late90      PropLines       Late6089           Deps  \n",
       "count  146140.000000  146140.000000  146140.000000  146140.000000  \n",
       "mean        0.065417       1.000500       0.044252       0.711640  \n",
       "std         0.380235       1.023362       0.252900       1.052535  \n",
       "min         0.000000       0.000000       0.000000       0.000000  \n",
       "25%         0.000000       0.000000       0.000000       0.000000  \n",
       "50%         0.000000       1.000000       0.000000       0.000000  \n",
       "75%         0.000000       2.000000       0.000000       1.000000  \n",
       "max         5.000000       6.000000       3.000000       4.000000  "
      ]
     },
     "execution_count": 39,
     "metadata": {},
     "output_type": "execute_result"
    }
   ],
   "source": [
    "dataset.describe() "
   ]
  },
  {
   "cell_type": "markdown",
   "id": "218e4835",
   "metadata": {},
   "source": [
    "## 4.3. Data Transformation (2): Building binary/dummy variables"
   ]
  },
  {
   "cell_type": "code",
   "execution_count": 40,
   "id": "512bff0e",
   "metadata": {},
   "outputs": [],
   "source": [
    "dataset = pd.get_dummies(dataset, columns = [\"UnsecLines\"], prefix=\"UnsecLines\")\n",
    "dataset = pd.get_dummies(dataset, columns = [\"age\"], prefix=\"age\")\n",
    "dataset = pd.get_dummies(dataset, columns = [\"Late3059\"], prefix=\"Late3059\")\n",
    "dataset = pd.get_dummies(dataset, columns = [\"DebtRatio\"], prefix=\"DebtRatio\")\n",
    "dataset = pd.get_dummies(dataset, columns = [\"MonthlyIncome\"], prefix=\"MonthlyIncome\")\n",
    "dataset = pd.get_dummies(dataset, columns = [\"OpenCredit\"], prefix=\"OpenCredit\")\n",
    "dataset = pd.get_dummies(dataset, columns = [\"Late90\"], prefix=\"Late90\")\n",
    "dataset = pd.get_dummies(dataset, columns = [\"PropLines\"], prefix=\"PropLines\")\n",
    "dataset = pd.get_dummies(dataset, columns = [\"Late6089\"], prefix=\"Late6089\")\n",
    "dataset = pd.get_dummies(dataset, columns = [\"Deps\"], prefix=\"Deps\")"
   ]
  },
  {
   "cell_type": "markdown",
   "id": "bd9a1b4a",
   "metadata": {},
   "source": [
    "Dataset with binary/dummy variables"
   ]
  },
  {
   "cell_type": "code",
   "execution_count": 41,
   "id": "37a46014",
   "metadata": {},
   "outputs": [
    {
     "data": {
      "text/html": [
       "<div>\n",
       "<style scoped>\n",
       "    .dataframe tbody tr th:only-of-type {\n",
       "        vertical-align: middle;\n",
       "    }\n",
       "\n",
       "    .dataframe tbody tr th {\n",
       "        vertical-align: top;\n",
       "    }\n",
       "\n",
       "    .dataframe thead th {\n",
       "        text-align: right;\n",
       "    }\n",
       "</style>\n",
       "<table border=\"1\" class=\"dataframe\">\n",
       "  <thead>\n",
       "    <tr style=\"text-align: right;\">\n",
       "      <th></th>\n",
       "      <th>id</th>\n",
       "      <th>Target</th>\n",
       "      <th>UnsecLines_0</th>\n",
       "      <th>UnsecLines_1</th>\n",
       "      <th>UnsecLines_2</th>\n",
       "      <th>UnsecLines_3</th>\n",
       "      <th>UnsecLines_4</th>\n",
       "      <th>age_0</th>\n",
       "      <th>age_1</th>\n",
       "      <th>age_2</th>\n",
       "      <th>...</th>\n",
       "      <th>PropLines_6</th>\n",
       "      <th>Late6089_0</th>\n",
       "      <th>Late6089_1</th>\n",
       "      <th>Late6089_2</th>\n",
       "      <th>Late6089_3</th>\n",
       "      <th>Deps_0.0</th>\n",
       "      <th>Deps_1.0</th>\n",
       "      <th>Deps_2.0</th>\n",
       "      <th>Deps_3.0</th>\n",
       "      <th>Deps_4.0</th>\n",
       "    </tr>\n",
       "  </thead>\n",
       "  <tbody>\n",
       "    <tr>\n",
       "      <th>0</th>\n",
       "      <td>1</td>\n",
       "      <td>1.0</td>\n",
       "      <td>0</td>\n",
       "      <td>0</td>\n",
       "      <td>0</td>\n",
       "      <td>0</td>\n",
       "      <td>1</td>\n",
       "      <td>0</td>\n",
       "      <td>1</td>\n",
       "      <td>0</td>\n",
       "      <td>...</td>\n",
       "      <td>1</td>\n",
       "      <td>1</td>\n",
       "      <td>0</td>\n",
       "      <td>0</td>\n",
       "      <td>0</td>\n",
       "      <td>0</td>\n",
       "      <td>0</td>\n",
       "      <td>1</td>\n",
       "      <td>0</td>\n",
       "      <td>0</td>\n",
       "    </tr>\n",
       "    <tr>\n",
       "      <th>1</th>\n",
       "      <td>2</td>\n",
       "      <td>0.0</td>\n",
       "      <td>0</td>\n",
       "      <td>0</td>\n",
       "      <td>0</td>\n",
       "      <td>0</td>\n",
       "      <td>1</td>\n",
       "      <td>0</td>\n",
       "      <td>1</td>\n",
       "      <td>0</td>\n",
       "      <td>...</td>\n",
       "      <td>0</td>\n",
       "      <td>1</td>\n",
       "      <td>0</td>\n",
       "      <td>0</td>\n",
       "      <td>0</td>\n",
       "      <td>0</td>\n",
       "      <td>1</td>\n",
       "      <td>0</td>\n",
       "      <td>0</td>\n",
       "      <td>0</td>\n",
       "    </tr>\n",
       "    <tr>\n",
       "      <th>2</th>\n",
       "      <td>3</td>\n",
       "      <td>0.0</td>\n",
       "      <td>0</td>\n",
       "      <td>0</td>\n",
       "      <td>0</td>\n",
       "      <td>1</td>\n",
       "      <td>0</td>\n",
       "      <td>1</td>\n",
       "      <td>0</td>\n",
       "      <td>0</td>\n",
       "      <td>...</td>\n",
       "      <td>0</td>\n",
       "      <td>1</td>\n",
       "      <td>0</td>\n",
       "      <td>0</td>\n",
       "      <td>0</td>\n",
       "      <td>1</td>\n",
       "      <td>0</td>\n",
       "      <td>0</td>\n",
       "      <td>0</td>\n",
       "      <td>0</td>\n",
       "    </tr>\n",
       "    <tr>\n",
       "      <th>3</th>\n",
       "      <td>4</td>\n",
       "      <td>0.0</td>\n",
       "      <td>0</td>\n",
       "      <td>0</td>\n",
       "      <td>1</td>\n",
       "      <td>0</td>\n",
       "      <td>0</td>\n",
       "      <td>1</td>\n",
       "      <td>0</td>\n",
       "      <td>0</td>\n",
       "      <td>...</td>\n",
       "      <td>0</td>\n",
       "      <td>1</td>\n",
       "      <td>0</td>\n",
       "      <td>0</td>\n",
       "      <td>0</td>\n",
       "      <td>1</td>\n",
       "      <td>0</td>\n",
       "      <td>0</td>\n",
       "      <td>0</td>\n",
       "      <td>0</td>\n",
       "    </tr>\n",
       "    <tr>\n",
       "      <th>4</th>\n",
       "      <td>5</td>\n",
       "      <td>0.0</td>\n",
       "      <td>0</td>\n",
       "      <td>0</td>\n",
       "      <td>0</td>\n",
       "      <td>0</td>\n",
       "      <td>1</td>\n",
       "      <td>0</td>\n",
       "      <td>0</td>\n",
       "      <td>1</td>\n",
       "      <td>...</td>\n",
       "      <td>0</td>\n",
       "      <td>1</td>\n",
       "      <td>0</td>\n",
       "      <td>0</td>\n",
       "      <td>0</td>\n",
       "      <td>1</td>\n",
       "      <td>0</td>\n",
       "      <td>0</td>\n",
       "      <td>0</td>\n",
       "      <td>0</td>\n",
       "    </tr>\n",
       "    <tr>\n",
       "      <th>...</th>\n",
       "      <td>...</td>\n",
       "      <td>...</td>\n",
       "      <td>...</td>\n",
       "      <td>...</td>\n",
       "      <td>...</td>\n",
       "      <td>...</td>\n",
       "      <td>...</td>\n",
       "      <td>...</td>\n",
       "      <td>...</td>\n",
       "      <td>...</td>\n",
       "      <td>...</td>\n",
       "      <td>...</td>\n",
       "      <td>...</td>\n",
       "      <td>...</td>\n",
       "      <td>...</td>\n",
       "      <td>...</td>\n",
       "      <td>...</td>\n",
       "      <td>...</td>\n",
       "      <td>...</td>\n",
       "      <td>...</td>\n",
       "      <td>...</td>\n",
       "    </tr>\n",
       "    <tr>\n",
       "      <th>146135</th>\n",
       "      <td>37496</td>\n",
       "      <td>NaN</td>\n",
       "      <td>0</td>\n",
       "      <td>0</td>\n",
       "      <td>0</td>\n",
       "      <td>0</td>\n",
       "      <td>1</td>\n",
       "      <td>0</td>\n",
       "      <td>0</td>\n",
       "      <td>1</td>\n",
       "      <td>...</td>\n",
       "      <td>0</td>\n",
       "      <td>1</td>\n",
       "      <td>0</td>\n",
       "      <td>0</td>\n",
       "      <td>0</td>\n",
       "      <td>0</td>\n",
       "      <td>0</td>\n",
       "      <td>1</td>\n",
       "      <td>0</td>\n",
       "      <td>0</td>\n",
       "    </tr>\n",
       "    <tr>\n",
       "      <th>146136</th>\n",
       "      <td>37497</td>\n",
       "      <td>NaN</td>\n",
       "      <td>0</td>\n",
       "      <td>0</td>\n",
       "      <td>1</td>\n",
       "      <td>0</td>\n",
       "      <td>0</td>\n",
       "      <td>0</td>\n",
       "      <td>0</td>\n",
       "      <td>1</td>\n",
       "      <td>...</td>\n",
       "      <td>0</td>\n",
       "      <td>1</td>\n",
       "      <td>0</td>\n",
       "      <td>0</td>\n",
       "      <td>0</td>\n",
       "      <td>0</td>\n",
       "      <td>1</td>\n",
       "      <td>0</td>\n",
       "      <td>0</td>\n",
       "      <td>0</td>\n",
       "    </tr>\n",
       "    <tr>\n",
       "      <th>146137</th>\n",
       "      <td>37498</td>\n",
       "      <td>NaN</td>\n",
       "      <td>0</td>\n",
       "      <td>0</td>\n",
       "      <td>0</td>\n",
       "      <td>0</td>\n",
       "      <td>1</td>\n",
       "      <td>1</td>\n",
       "      <td>0</td>\n",
       "      <td>0</td>\n",
       "      <td>...</td>\n",
       "      <td>0</td>\n",
       "      <td>1</td>\n",
       "      <td>0</td>\n",
       "      <td>0</td>\n",
       "      <td>0</td>\n",
       "      <td>1</td>\n",
       "      <td>0</td>\n",
       "      <td>0</td>\n",
       "      <td>0</td>\n",
       "      <td>0</td>\n",
       "    </tr>\n",
       "    <tr>\n",
       "      <th>146138</th>\n",
       "      <td>37499</td>\n",
       "      <td>NaN</td>\n",
       "      <td>0</td>\n",
       "      <td>0</td>\n",
       "      <td>0</td>\n",
       "      <td>1</td>\n",
       "      <td>0</td>\n",
       "      <td>0</td>\n",
       "      <td>0</td>\n",
       "      <td>1</td>\n",
       "      <td>...</td>\n",
       "      <td>0</td>\n",
       "      <td>1</td>\n",
       "      <td>0</td>\n",
       "      <td>0</td>\n",
       "      <td>0</td>\n",
       "      <td>1</td>\n",
       "      <td>0</td>\n",
       "      <td>0</td>\n",
       "      <td>0</td>\n",
       "      <td>0</td>\n",
       "    </tr>\n",
       "    <tr>\n",
       "      <th>146139</th>\n",
       "      <td>37500</td>\n",
       "      <td>NaN</td>\n",
       "      <td>0</td>\n",
       "      <td>0</td>\n",
       "      <td>0</td>\n",
       "      <td>0</td>\n",
       "      <td>1</td>\n",
       "      <td>0</td>\n",
       "      <td>0</td>\n",
       "      <td>0</td>\n",
       "      <td>...</td>\n",
       "      <td>0</td>\n",
       "      <td>1</td>\n",
       "      <td>0</td>\n",
       "      <td>0</td>\n",
       "      <td>0</td>\n",
       "      <td>0</td>\n",
       "      <td>1</td>\n",
       "      <td>0</td>\n",
       "      <td>0</td>\n",
       "      <td>0</td>\n",
       "    </tr>\n",
       "  </tbody>\n",
       "</table>\n",
       "<p>146140 rows × 56 columns</p>\n",
       "</div>"
      ],
      "text/plain": [
       "           id  Target  UnsecLines_0  UnsecLines_1  UnsecLines_2  UnsecLines_3  \\\n",
       "0           1     1.0             0             0             0             0   \n",
       "1           2     0.0             0             0             0             0   \n",
       "2           3     0.0             0             0             0             1   \n",
       "3           4     0.0             0             0             1             0   \n",
       "4           5     0.0             0             0             0             0   \n",
       "...       ...     ...           ...           ...           ...           ...   \n",
       "146135  37496     NaN             0             0             0             0   \n",
       "146136  37497     NaN             0             0             1             0   \n",
       "146137  37498     NaN             0             0             0             0   \n",
       "146138  37499     NaN             0             0             0             1   \n",
       "146139  37500     NaN             0             0             0             0   \n",
       "\n",
       "        UnsecLines_4  age_0  age_1  age_2  ...  PropLines_6  Late6089_0  \\\n",
       "0                  1      0      1      0  ...            1           1   \n",
       "1                  1      0      1      0  ...            0           1   \n",
       "2                  0      1      0      0  ...            0           1   \n",
       "3                  0      1      0      0  ...            0           1   \n",
       "4                  1      0      0      1  ...            0           1   \n",
       "...              ...    ...    ...    ...  ...          ...         ...   \n",
       "146135             1      0      0      1  ...            0           1   \n",
       "146136             0      0      0      1  ...            0           1   \n",
       "146137             1      1      0      0  ...            0           1   \n",
       "146138             0      0      0      1  ...            0           1   \n",
       "146139             1      0      0      0  ...            0           1   \n",
       "\n",
       "        Late6089_1  Late6089_2  Late6089_3  Deps_0.0  Deps_1.0  Deps_2.0  \\\n",
       "0                0           0           0         0         0         1   \n",
       "1                0           0           0         0         1         0   \n",
       "2                0           0           0         1         0         0   \n",
       "3                0           0           0         1         0         0   \n",
       "4                0           0           0         1         0         0   \n",
       "...            ...         ...         ...       ...       ...       ...   \n",
       "146135           0           0           0         0         0         1   \n",
       "146136           0           0           0         0         1         0   \n",
       "146137           0           0           0         1         0         0   \n",
       "146138           0           0           0         1         0         0   \n",
       "146139           0           0           0         0         1         0   \n",
       "\n",
       "        Deps_3.0  Deps_4.0  \n",
       "0              0         0  \n",
       "1              0         0  \n",
       "2              0         0  \n",
       "3              0         0  \n",
       "4              0         0  \n",
       "...          ...       ...  \n",
       "146135         0         0  \n",
       "146136         0         0  \n",
       "146137         0         0  \n",
       "146138         0         0  \n",
       "146139         0         0  \n",
       "\n",
       "[146140 rows x 56 columns]"
      ]
     },
     "execution_count": 41,
     "metadata": {},
     "output_type": "execute_result"
    }
   ],
   "source": [
    "dataset"
   ]
  },
  {
   "cell_type": "markdown",
   "id": "0dd038aa",
   "metadata": {},
   "source": [
    "# 5. Finalize Model (Logistic Model)"
   ]
  },
  {
   "cell_type": "markdown",
   "id": "c0f1e35e",
   "metadata": {},
   "source": [
    "## 5.1. Train/Test Split"
   ]
  },
  {
   "cell_type": "code",
   "execution_count": 42,
   "id": "83ce37bc",
   "metadata": {},
   "outputs": [
    {
     "name": "stderr",
     "output_type": "stream",
     "text": [
      "C:\\Users\\gfan1\\AppData\\Local\\Temp\\ipykernel_25380\\385251208.py:3: SettingWithCopyWarning: \n",
      "A value is trying to be set on a copy of a slice from a DataFrame\n",
      "\n",
      "See the caveats in the documentation: https://pandas.pydata.org/pandas-docs/stable/user_guide/indexing.html#returning-a-view-versus-a-copy\n",
      "  test.drop(labels=[\"Target\"],axis = 1,inplace=True)\n"
     ]
    }
   ],
   "source": [
    "train = dataset[:train_len]\n",
    "test = dataset[train_len:]\n",
    "test.drop(labels=[\"Target\"],axis = 1,inplace=True)"
   ]
  },
  {
   "cell_type": "code",
   "execution_count": 43,
   "id": "ed12346b",
   "metadata": {},
   "outputs": [
    {
     "data": {
      "text/plain": [
       "(37500, 55)"
      ]
     },
     "execution_count": 43,
     "metadata": {},
     "output_type": "execute_result"
    }
   ],
   "source": [
    "test.shape"
   ]
  },
  {
   "cell_type": "code",
   "execution_count": 44,
   "id": "9f3fe44d",
   "metadata": {},
   "outputs": [
    {
     "name": "stderr",
     "output_type": "stream",
     "text": [
      "C:\\Users\\gfan1\\AppData\\Local\\Temp\\ipykernel_25380\\4033119369.py:2: SettingWithCopyWarning: \n",
      "A value is trying to be set on a copy of a slice from a DataFrame.\n",
      "Try using .loc[row_indexer,col_indexer] = value instead\n",
      "\n",
      "See the caveats in the documentation: https://pandas.pydata.org/pandas-docs/stable/user_guide/indexing.html#returning-a-view-versus-a-copy\n",
      "  train[\"Target\"] = train[\"Target\"].astype(int)\n"
     ]
    }
   ],
   "source": [
    "#Separate train features and label \n",
    "train[\"Target\"] = train[\"Target\"].astype(int)\n",
    "\n",
    "y_train = train[\"Target\"]\n",
    "\n",
    "X_train = train.drop(labels = [\"Target\", \"id\"],axis = 1)"
   ]
  },
  {
   "cell_type": "code",
   "execution_count": 45,
   "id": "38bd3ab4",
   "metadata": {},
   "outputs": [
    {
     "name": "stdout",
     "output_type": "stream",
     "text": [
      "(108640, 54) (108640,)\n"
     ]
    }
   ],
   "source": [
    "print(X_train.shape, y_train.shape)"
   ]
  },
  {
   "cell_type": "markdown",
   "id": "786c9eda",
   "metadata": {},
   "source": [
    "## 5.2. Set & Fit the Model"
   ]
  },
  {
   "cell_type": "code",
   "execution_count": 46,
   "id": "5a6d5007",
   "metadata": {},
   "outputs": [
    {
     "name": "stderr",
     "output_type": "stream",
     "text": [
      "C:\\Users\\gfan1\\anaconda3\\envs\\uconn_ml2\\lib\\site-packages\\sklearn\\linear_model\\_logistic.py:814: ConvergenceWarning: lbfgs failed to converge (status=1):\n",
      "STOP: TOTAL NO. of ITERATIONS REACHED LIMIT.\n",
      "\n",
      "Increase the number of iterations (max_iter) or scale the data as shown in:\n",
      "    https://scikit-learn.org/stable/modules/preprocessing.html\n",
      "Please also refer to the documentation for alternative solver options:\n",
      "    https://scikit-learn.org/stable/modules/linear_model.html#logistic-regression\n",
      "  n_iter_i = _check_optimize_result(\n"
     ]
    },
    {
     "data": {
      "text/plain": [
       "LogisticRegression()"
      ]
     },
     "execution_count": 46,
     "metadata": {},
     "output_type": "execute_result"
    }
   ],
   "source": [
    "#Set the Model\n",
    "LR = LogisticRegression()\n",
    "\n",
    "#Fit the Model\n",
    "LR.fit(X_train, y_train)"
   ]
  },
  {
   "cell_type": "markdown",
   "id": "712b2659",
   "metadata": {},
   "source": [
    "## 5.3. Feature Selection"
   ]
  },
  {
   "cell_type": "code",
   "execution_count": 47,
   "id": "f2086204",
   "metadata": {},
   "outputs": [],
   "source": [
    "features = pd.DataFrame()\n",
    "features['feature'] = X_train.columns\n",
    "features['importance'] = abs(LR.coef_[0])  # using absolute value since the coefficients can be negative\n",
    "features.sort_values(by=['importance'], ascending=True, inplace=True)\n",
    "features.set_index('feature', inplace=True)"
   ]
  },
  {
   "cell_type": "code",
   "execution_count": 48,
   "id": "30f5de00",
   "metadata": {},
   "outputs": [
    {
     "data": {
      "text/plain": [
       "<AxesSubplot:ylabel='feature'>"
      ]
     },
     "execution_count": 48,
     "metadata": {},
     "output_type": "execute_result"
    },
    {
     "data": {
      "image/png": "[encoded data removed]",
      "text/plain": [
       "<Figure size 1440x1440 with 1 Axes>"
      ]
     },
     "metadata": {},
     "output_type": "display_data"
    }
   ],
   "source": [
    "features.plot(kind='barh', figsize=(20, 20))"
   ]
  },
  {
   "cell_type": "code",
   "execution_count": 49,
   "id": "b2a06085",
   "metadata": {},
   "outputs": [],
   "source": [
    "X_test = test.drop(labels = [\"id\"], axis = 1)"
   ]
  },
  {
   "cell_type": "markdown",
   "id": "db2ed8ef",
   "metadata": {},
   "source": [
    "## 5.4. Use the Model to Make Predictions"
   ]
  },
  {
   "cell_type": "markdown",
   "id": "317820ad",
   "metadata": {},
   "source": [
    "### 5.4.1. Generation of y_predict (SeriousDlqin2yrs or Target)"
   ]
  },
  {
   "cell_type": "code",
   "execution_count": 50,
   "id": "0df81912",
   "metadata": {},
   "outputs": [
    {
     "name": "stdout",
     "output_type": "stream",
     "text": [
      "[0 0 0 ... 0 0 0]\n",
      "<class 'numpy.ndarray'>\n"
     ]
    }
   ],
   "source": [
    "y_predict = LR.predict(X_test)\n",
    "print(y_predict)\n",
    "print(type(y_predict))"
   ]
  },
  {
   "cell_type": "markdown",
   "id": "b8a5676d",
   "metadata": {},
   "source": [
    "### 5.4.2. Generation of Default Probability"
   ]
  },
  {
   "cell_type": "markdown",
   "id": "0e64b312",
   "metadata": {},
   "source": [
    "The first column is the probability that the entry has the -1 label and the second column is the probability that the entry has the +1 label. Note that classes are ordered as they are in self.classes_.\n",
    "\n",
    "If you would like to get the predicted probabilities for the positive label only, you can use logistic_model.predict_proba(data)[:,1]."
   ]
  },
  {
   "cell_type": "code",
   "execution_count": 51,
   "id": "bea00a1a",
   "metadata": {},
   "outputs": [
    {
     "name": "stdout",
     "output_type": "stream",
     "text": [
      "[0.01461021 0.01500824 0.04805568 ... 0.09803361 0.04116563 0.0523325 ]\n",
      "<class 'numpy.ndarray'>\n"
     ]
    }
   ],
   "source": [
    "DefaultProb = LR.predict_proba(X_test)[:, 1]\n",
    "print(DefaultProb)\n",
    "print(type(DefaultProb))"
   ]
  },
  {
   "cell_type": "code",
   "execution_count": 52,
   "id": "1a910c0d",
   "metadata": {},
   "outputs": [
    {
     "data": {
      "text/html": [
       "<div>\n",
       "<style scoped>\n",
       "    .dataframe tbody tr th:only-of-type {\n",
       "        vertical-align: middle;\n",
       "    }\n",
       "\n",
       "    .dataframe tbody tr th {\n",
       "        vertical-align: top;\n",
       "    }\n",
       "\n",
       "    .dataframe thead th {\n",
       "        text-align: right;\n",
       "    }\n",
       "</style>\n",
       "<table border=\"1\" class=\"dataframe\">\n",
       "  <thead>\n",
       "    <tr style=\"text-align: right;\">\n",
       "      <th></th>\n",
       "      <th>Probability</th>\n",
       "    </tr>\n",
       "  </thead>\n",
       "  <tbody>\n",
       "    <tr>\n",
       "      <th>0</th>\n",
       "      <td>0.014610</td>\n",
       "    </tr>\n",
       "    <tr>\n",
       "      <th>1</th>\n",
       "      <td>0.015008</td>\n",
       "    </tr>\n",
       "    <tr>\n",
       "      <th>2</th>\n",
       "      <td>0.048056</td>\n",
       "    </tr>\n",
       "    <tr>\n",
       "      <th>3</th>\n",
       "      <td>0.238078</td>\n",
       "    </tr>\n",
       "    <tr>\n",
       "      <th>4</th>\n",
       "      <td>0.212129</td>\n",
       "    </tr>\n",
       "    <tr>\n",
       "      <th>...</th>\n",
       "      <td>...</td>\n",
       "    </tr>\n",
       "    <tr>\n",
       "      <th>37495</th>\n",
       "      <td>0.158379</td>\n",
       "    </tr>\n",
       "    <tr>\n",
       "      <th>37496</th>\n",
       "      <td>0.016527</td>\n",
       "    </tr>\n",
       "    <tr>\n",
       "      <th>37497</th>\n",
       "      <td>0.098034</td>\n",
       "    </tr>\n",
       "    <tr>\n",
       "      <th>37498</th>\n",
       "      <td>0.041166</td>\n",
       "    </tr>\n",
       "    <tr>\n",
       "      <th>37499</th>\n",
       "      <td>0.052333</td>\n",
       "    </tr>\n",
       "  </tbody>\n",
       "</table>\n",
       "<p>37500 rows × 1 columns</p>\n",
       "</div>"
      ],
      "text/plain": [
       "       Probability\n",
       "0         0.014610\n",
       "1         0.015008\n",
       "2         0.048056\n",
       "3         0.238078\n",
       "4         0.212129\n",
       "...            ...\n",
       "37495     0.158379\n",
       "37496     0.016527\n",
       "37497     0.098034\n",
       "37498     0.041166\n",
       "37499     0.052333\n",
       "\n",
       "[37500 rows x 1 columns]"
      ]
     },
     "execution_count": 52,
     "metadata": {},
     "output_type": "execute_result"
    }
   ],
   "source": [
    "DP = pd.DataFrame(DefaultProb, columns=['Probability'])\n",
    "DP"
   ]
  },
  {
   "cell_type": "code",
   "execution_count": 53,
   "id": "46713fb9",
   "metadata": {},
   "outputs": [
    {
     "data": {
      "text/html": [
       "<div>\n",
       "<style scoped>\n",
       "    .dataframe tbody tr th:only-of-type {\n",
       "        vertical-align: middle;\n",
       "    }\n",
       "\n",
       "    .dataframe tbody tr th {\n",
       "        vertical-align: top;\n",
       "    }\n",
       "\n",
       "    .dataframe thead th {\n",
       "        text-align: right;\n",
       "    }\n",
       "</style>\n",
       "<table border=\"1\" class=\"dataframe\">\n",
       "  <thead>\n",
       "    <tr style=\"text-align: right;\">\n",
       "      <th></th>\n",
       "      <th>Probability</th>\n",
       "    </tr>\n",
       "  </thead>\n",
       "  <tbody>\n",
       "    <tr>\n",
       "      <th>count</th>\n",
       "      <td>37500.000000</td>\n",
       "    </tr>\n",
       "    <tr>\n",
       "      <th>mean</th>\n",
       "      <td>0.070999</td>\n",
       "    </tr>\n",
       "    <tr>\n",
       "      <th>std</th>\n",
       "      <td>0.136335</td>\n",
       "    </tr>\n",
       "    <tr>\n",
       "      <th>min</th>\n",
       "      <td>0.003766</td>\n",
       "    </tr>\n",
       "    <tr>\n",
       "      <th>25%</th>\n",
       "      <td>0.013005</td>\n",
       "    </tr>\n",
       "    <tr>\n",
       "      <th>50%</th>\n",
       "      <td>0.024408</td>\n",
       "    </tr>\n",
       "    <tr>\n",
       "      <th>75%</th>\n",
       "      <td>0.062619</td>\n",
       "    </tr>\n",
       "    <tr>\n",
       "      <th>max</th>\n",
       "      <td>0.987376</td>\n",
       "    </tr>\n",
       "  </tbody>\n",
       "</table>\n",
       "</div>"
      ],
      "text/plain": [
       "        Probability\n",
       "count  37500.000000\n",
       "mean       0.070999\n",
       "std        0.136335\n",
       "min        0.003766\n",
       "25%        0.013005\n",
       "50%        0.024408\n",
       "75%        0.062619\n",
       "max        0.987376"
      ]
     },
     "execution_count": 53,
     "metadata": {},
     "output_type": "execute_result"
    }
   ],
   "source": [
    "DP.describe()"
   ]
  },
  {
   "cell_type": "markdown",
   "id": "cec3ef59",
   "metadata": {},
   "source": [
    "## 5.5. Output the Data (File to Turn-in)"
   ]
  },
  {
   "cell_type": "code",
   "execution_count": 54,
   "id": "f924ca11",
   "metadata": {},
   "outputs": [],
   "source": [
    "# Add a column \"id\"\n",
    "id = {'id': list(range(1, 37501))}"
   ]
  },
  {
   "cell_type": "markdown",
   "id": "8507fdb2",
   "metadata": {},
   "source": [
    "Set up the required data form to turn-in"
   ]
  },
  {
   "cell_type": "code",
   "execution_count": 55,
   "id": "49817a74",
   "metadata": {},
   "outputs": [],
   "source": [
    "df = pd.DataFrame(id, columns=['id']).join(pd.DataFrame(DefaultProb, columns=['Probability']))"
   ]
  },
  {
   "cell_type": "code",
   "execution_count": 56,
   "id": "b9763673",
   "metadata": {},
   "outputs": [
    {
     "data": {
      "text/html": [
       "<div>\n",
       "<style scoped>\n",
       "    .dataframe tbody tr th:only-of-type {\n",
       "        vertical-align: middle;\n",
       "    }\n",
       "\n",
       "    .dataframe tbody tr th {\n",
       "        vertical-align: top;\n",
       "    }\n",
       "\n",
       "    .dataframe thead th {\n",
       "        text-align: right;\n",
       "    }\n",
       "</style>\n",
       "<table border=\"1\" class=\"dataframe\">\n",
       "  <thead>\n",
       "    <tr style=\"text-align: right;\">\n",
       "      <th></th>\n",
       "      <th>id</th>\n",
       "      <th>Probability</th>\n",
       "    </tr>\n",
       "  </thead>\n",
       "  <tbody>\n",
       "    <tr>\n",
       "      <th>0</th>\n",
       "      <td>1</td>\n",
       "      <td>0.014610</td>\n",
       "    </tr>\n",
       "    <tr>\n",
       "      <th>1</th>\n",
       "      <td>2</td>\n",
       "      <td>0.015008</td>\n",
       "    </tr>\n",
       "    <tr>\n",
       "      <th>2</th>\n",
       "      <td>3</td>\n",
       "      <td>0.048056</td>\n",
       "    </tr>\n",
       "    <tr>\n",
       "      <th>3</th>\n",
       "      <td>4</td>\n",
       "      <td>0.238078</td>\n",
       "    </tr>\n",
       "    <tr>\n",
       "      <th>4</th>\n",
       "      <td>5</td>\n",
       "      <td>0.212129</td>\n",
       "    </tr>\n",
       "    <tr>\n",
       "      <th>...</th>\n",
       "      <td>...</td>\n",
       "      <td>...</td>\n",
       "    </tr>\n",
       "    <tr>\n",
       "      <th>37495</th>\n",
       "      <td>37496</td>\n",
       "      <td>0.158379</td>\n",
       "    </tr>\n",
       "    <tr>\n",
       "      <th>37496</th>\n",
       "      <td>37497</td>\n",
       "      <td>0.016527</td>\n",
       "    </tr>\n",
       "    <tr>\n",
       "      <th>37497</th>\n",
       "      <td>37498</td>\n",
       "      <td>0.098034</td>\n",
       "    </tr>\n",
       "    <tr>\n",
       "      <th>37498</th>\n",
       "      <td>37499</td>\n",
       "      <td>0.041166</td>\n",
       "    </tr>\n",
       "    <tr>\n",
       "      <th>37499</th>\n",
       "      <td>37500</td>\n",
       "      <td>0.052333</td>\n",
       "    </tr>\n",
       "  </tbody>\n",
       "</table>\n",
       "<p>37500 rows × 2 columns</p>\n",
       "</div>"
      ],
      "text/plain": [
       "          id  Probability\n",
       "0          1     0.014610\n",
       "1          2     0.015008\n",
       "2          3     0.048056\n",
       "3          4     0.238078\n",
       "4          5     0.212129\n",
       "...      ...          ...\n",
       "37495  37496     0.158379\n",
       "37496  37497     0.016527\n",
       "37497  37498     0.098034\n",
       "37498  37499     0.041166\n",
       "37499  37500     0.052333\n",
       "\n",
       "[37500 rows x 2 columns]"
      ]
     },
     "execution_count": 56,
     "metadata": {},
     "output_type": "execute_result"
    }
   ],
   "source": [
    "df"
   ]
  },
  {
   "cell_type": "markdown",
   "id": "481e012e",
   "metadata": {},
   "source": [
    "Export the data into csv file"
   ]
  },
  {
   "cell_type": "code",
   "execution_count": 57,
   "id": "1a52c928",
   "metadata": {},
   "outputs": [],
   "source": [
    "#Export the data into csv file\n",
    "df.to_csv('UConnFNCE5352_CREDIT_SCORE.csv', index=False)"
   ]
  },
  {
   "cell_type": "code",
   "execution_count": 58,
   "id": "6ce232f0",
   "metadata": {},
   "outputs": [
    {
     "data": {
      "text/html": [
       "<div>\n",
       "<style scoped>\n",
       "    .dataframe tbody tr th:only-of-type {\n",
       "        vertical-align: middle;\n",
       "    }\n",
       "\n",
       "    .dataframe tbody tr th {\n",
       "        vertical-align: top;\n",
       "    }\n",
       "\n",
       "    .dataframe thead th {\n",
       "        text-align: right;\n",
       "    }\n",
       "</style>\n",
       "<table border=\"1\" class=\"dataframe\">\n",
       "  <thead>\n",
       "    <tr style=\"text-align: right;\">\n",
       "      <th></th>\n",
       "      <th>id</th>\n",
       "      <th>Probability</th>\n",
       "    </tr>\n",
       "  </thead>\n",
       "  <tbody>\n",
       "    <tr>\n",
       "      <th>0</th>\n",
       "      <td>1</td>\n",
       "      <td>0.014610</td>\n",
       "    </tr>\n",
       "    <tr>\n",
       "      <th>1</th>\n",
       "      <td>2</td>\n",
       "      <td>0.015008</td>\n",
       "    </tr>\n",
       "    <tr>\n",
       "      <th>2</th>\n",
       "      <td>3</td>\n",
       "      <td>0.048056</td>\n",
       "    </tr>\n",
       "    <tr>\n",
       "      <th>3</th>\n",
       "      <td>4</td>\n",
       "      <td>0.238078</td>\n",
       "    </tr>\n",
       "    <tr>\n",
       "      <th>4</th>\n",
       "      <td>5</td>\n",
       "      <td>0.212129</td>\n",
       "    </tr>\n",
       "    <tr>\n",
       "      <th>...</th>\n",
       "      <td>...</td>\n",
       "      <td>...</td>\n",
       "    </tr>\n",
       "    <tr>\n",
       "      <th>95</th>\n",
       "      <td>96</td>\n",
       "      <td>0.020878</td>\n",
       "    </tr>\n",
       "    <tr>\n",
       "      <th>96</th>\n",
       "      <td>97</td>\n",
       "      <td>0.006583</td>\n",
       "    </tr>\n",
       "    <tr>\n",
       "      <th>97</th>\n",
       "      <td>98</td>\n",
       "      <td>0.019267</td>\n",
       "    </tr>\n",
       "    <tr>\n",
       "      <th>98</th>\n",
       "      <td>99</td>\n",
       "      <td>0.031077</td>\n",
       "    </tr>\n",
       "    <tr>\n",
       "      <th>99</th>\n",
       "      <td>100</td>\n",
       "      <td>0.009240</td>\n",
       "    </tr>\n",
       "  </tbody>\n",
       "</table>\n",
       "<p>100 rows × 2 columns</p>\n",
       "</div>"
      ],
      "text/plain": [
       "     id  Probability\n",
       "0     1     0.014610\n",
       "1     2     0.015008\n",
       "2     3     0.048056\n",
       "3     4     0.238078\n",
       "4     5     0.212129\n",
       "..  ...          ...\n",
       "95   96     0.020878\n",
       "96   97     0.006583\n",
       "97   98     0.019267\n",
       "98   99     0.031077\n",
       "99  100     0.009240\n",
       "\n",
       "[100 rows x 2 columns]"
      ]
     },
     "execution_count": 58,
     "metadata": {},
     "output_type": "execute_result"
    }
   ],
   "source": [
    "df.head(100)"
   ]
  },
  {
   "cell_type": "code",
   "execution_count": 59,
   "id": "a071881e",
   "metadata": {},
   "outputs": [
    {
     "data": {
      "text/html": [
       "<div>\n",
       "<style scoped>\n",
       "    .dataframe tbody tr th:only-of-type {\n",
       "        vertical-align: middle;\n",
       "    }\n",
       "\n",
       "    .dataframe tbody tr th {\n",
       "        vertical-align: top;\n",
       "    }\n",
       "\n",
       "    .dataframe thead th {\n",
       "        text-align: right;\n",
       "    }\n",
       "</style>\n",
       "<table border=\"1\" class=\"dataframe\">\n",
       "  <thead>\n",
       "    <tr style=\"text-align: right;\">\n",
       "      <th></th>\n",
       "      <th>id</th>\n",
       "      <th>Probability</th>\n",
       "    </tr>\n",
       "  </thead>\n",
       "  <tbody>\n",
       "    <tr>\n",
       "      <th>count</th>\n",
       "      <td>37500.000000</td>\n",
       "      <td>37500.000000</td>\n",
       "    </tr>\n",
       "    <tr>\n",
       "      <th>mean</th>\n",
       "      <td>18750.500000</td>\n",
       "      <td>0.070999</td>\n",
       "    </tr>\n",
       "    <tr>\n",
       "      <th>std</th>\n",
       "      <td>10825.461884</td>\n",
       "      <td>0.136335</td>\n",
       "    </tr>\n",
       "    <tr>\n",
       "      <th>min</th>\n",
       "      <td>1.000000</td>\n",
       "      <td>0.003766</td>\n",
       "    </tr>\n",
       "    <tr>\n",
       "      <th>25%</th>\n",
       "      <td>9375.750000</td>\n",
       "      <td>0.013005</td>\n",
       "    </tr>\n",
       "    <tr>\n",
       "      <th>50%</th>\n",
       "      <td>18750.500000</td>\n",
       "      <td>0.024408</td>\n",
       "    </tr>\n",
       "    <tr>\n",
       "      <th>75%</th>\n",
       "      <td>28125.250000</td>\n",
       "      <td>0.062619</td>\n",
       "    </tr>\n",
       "    <tr>\n",
       "      <th>max</th>\n",
       "      <td>37500.000000</td>\n",
       "      <td>0.987376</td>\n",
       "    </tr>\n",
       "  </tbody>\n",
       "</table>\n",
       "</div>"
      ],
      "text/plain": [
       "                 id   Probability\n",
       "count  37500.000000  37500.000000\n",
       "mean   18750.500000      0.070999\n",
       "std    10825.461884      0.136335\n",
       "min        1.000000      0.003766\n",
       "25%     9375.750000      0.013005\n",
       "50%    18750.500000      0.024408\n",
       "75%    28125.250000      0.062619\n",
       "max    37500.000000      0.987376"
      ]
     },
     "execution_count": 59,
     "metadata": {},
     "output_type": "execute_result"
    }
   ],
   "source": [
    "df.describe()"
   ]
  }
 ],
 "metadata": {
  "kernelspec": {
   "display_name": "Python 3 (ipykernel)",
   "language": "python",
   "name": "python3"
  },
  "language_info": {
   "codemirror_mode": {
    "name": "ipython",
    "version": 3
   },
   "file_extension": ".py",
   "mimetype": "text/x-python",
   "name": "python",
   "nbconvert_exporter": "python",
   "pygments_lexer": "ipython3",
   "version": "3.10.0"
  }
 },
 "nbformat": 4,
 "nbformat_minor": 5
}
