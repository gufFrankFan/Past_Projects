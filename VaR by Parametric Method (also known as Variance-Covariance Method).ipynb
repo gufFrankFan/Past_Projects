{
 "cells": [
  {
   "cell_type": "markdown",
   "id": "5e098b07",
   "metadata": {},
   "source": [
    "# VaR by Parametric Method (also known as Variance-Covariance Method)"
   ]
  },
  {
   "cell_type": "markdown",
   "id": "ddcd89fc",
   "metadata": {},
   "source": [
    "1. Install necessary libraries \n",
    "2. Define parameters (time range, tickers, portfolio value, simulations, confidence interval)\n",
    "3. Download adjusted close prices (accounting for dividends and stock splits) \n",
    "4. Calculate daily log returns \n",
    "5. Assign equal weights to each asset in the portfolio\n",
    "6. Calculate the historical returns for the portfolio\n",
    "7. Calculate rolling sum of returns over the specified window of days \n",
    "8. VaR calculation using Parametric Method (also known as Vairance-Covariance method)\n",
    "9. Display VaR values \n",
    "10. Plot the distribution of portfolio returns over the specified window of days \n",
    "11. Highlight VaR values for each confidence level "
   ]
  },
  {
   "cell_type": "code",
   "execution_count": 1,
   "id": "663aa889",
   "metadata": {},
   "outputs": [],
   "source": [
    "import numpy as np\n",
    "import pandas as pd\n",
    "import datetime as dt\n",
    "import yfinance as yf\n",
    "import matplotlib.pyplot as plt\n",
    "from scipy.stats import norm"
   ]
  },
  {
   "cell_type": "code",
   "execution_count": 2,
   "id": "51d31688",
   "metadata": {},
   "outputs": [],
   "source": [
    "# Define parameters\n",
    "years = 15\n",
    "endDate = dt.datetime.now()\n",
    "startDate = endDate - dt.timedelta(days=365 * years)\n",
    "tickers = ['SPY', 'BND', 'GLD', 'QQQ', 'VTI']\n",
    "portfolio_value = 1000000\n",
    "days = 5\n",
    "confidence_levels = [0.9, 0.95, 0.99]"
   ]
  },
  {
   "cell_type": "code",
   "execution_count": 3,
   "id": "3c4defd5",
   "metadata": {},
   "outputs": [
    {
     "name": "stdout",
     "output_type": "stream",
     "text": [
      "[*********************100%***********************]  1 of 1 completed\n",
      "[*********************100%***********************]  1 of 1 completed\n",
      "[*********************100%***********************]  1 of 1 completed\n",
      "[*********************100%***********************]  1 of 1 completed\n",
      "[*********************100%***********************]  1 of 1 completed\n"
     ]
    }
   ],
   "source": [
    "# Download adjusted close prices (accounting for dividends and stock splits) \n",
    "adj_close_df = pd.DataFrame()\n",
    "for ticker in tickers:\n",
    "    data = yf.download(ticker, start=startDate, end=endDate)\n",
    "    adj_close_df[ticker] = data['Adj Close']"
   ]
  },
  {
   "cell_type": "code",
   "execution_count": 4,
   "id": "a3e3c78a",
   "metadata": {},
   "outputs": [],
   "source": [
    "# Calculate daily log returns\n",
    "log_returns = np.log(adj_close_df / adj_close_df.shift(1)).dropna()"
   ]
  },
  {
   "cell_type": "code",
   "execution_count": 5,
   "id": "7b1c8ac6",
   "metadata": {},
   "outputs": [],
   "source": [
    "# Assign equal weights to each asset in the portfolio\n",
    "weights = np.array([1/len(tickers)] * len(tickers))"
   ]
  },
  {
   "cell_type": "code",
   "execution_count": 6,
   "id": "964cc27f",
   "metadata": {},
   "outputs": [],
   "source": [
    "# Calculate historical returns for the portfolio\n",
    "historical_returns = (log_returns * weights).sum(axis=1)"
   ]
  },
  {
   "cell_type": "code",
   "execution_count": 7,
   "id": "7b2d60bc",
   "metadata": {},
   "outputs": [],
   "source": [
    "# Calculate rolling sum of returns over the specified window of days\n",
    "range_returns = historical_returns.rolling(window=days).sum().dropna()"
   ]
  },
  {
   "cell_type": "code",
   "execution_count": 8,
   "id": "653c1757",
   "metadata": {},
   "outputs": [],
   "source": [
    "# VaR Calculation using Parametric Method (also known as Variance-Covariance method)\n",
    "cov_matrix = log_returns.cov() * 252\n",
    "portfolio_std_dev = np.sqrt(weights.T @ cov_matrix @ weights)\n",
    "\n",
    "VaRs = [portfolio_value * portfolio_std_dev * norm.ppf(cl) * np.sqrt(days/252) for cl in confidence_levels]"
   ]
  },
  {
   "cell_type": "code",
   "execution_count": 9,
   "id": "ca81d2ba",
   "metadata": {},
   "outputs": [
    {
     "name": "stdout",
     "output_type": "stream",
     "text": [
      "Confidence Level     Value at Risk       \n",
      "----------------------------------------\n",
      "    90%:          $ 22,972.48\n",
      "    95%:          $ 29,484.86\n",
      "    99%:          $ 41,701.00\n"
     ]
    }
   ],
   "source": [
    "# Display VaR values\n",
    "print(f'{\"Confidence Level\":<20} {\"Value at Risk\":<20}')\n",
    "print('-' * 40)\n",
    "for cl, VaR in zip(confidence_levels, VaRs):\n",
    "    print(f'{cl * 100:>6.0f}%: {\"\":<8} ${VaR:>10,.2f}')"
   ]
  },
  {
   "cell_type": "code",
   "execution_count": 10,
   "id": "133a0c5e",
   "metadata": {},
   "outputs": [
    {
     "data": {
      "image/png": "[encoded data removed]",
      "text/plain": [
       "<Figure size 432x288 with 1 Axes>"
      ]
     },
     "metadata": {
      "needs_background": "light"
     },
     "output_type": "display_data"
    }
   ],
   "source": [
    "# Plot the distribution of portfolio returns over the specified window of days\n",
    "plt.hist(range_returns * portfolio_value, bins=50, density=True, alpha=0.5, label=f'{days}-Day Returns')\n",
    "\n",
    "# Highlight VaR values for each confidence level\n",
    "for cl, VaR in zip(confidence_levels, VaRs):\n",
    "    plt.axvline(x=-VaR, linestyle='--', color='r', label=f'VaR at {int(cl * 100)}% confidence')\n",
    "\n",
    "plt.xlabel(f'{days}-Day Portfolio Return ($)')\n",
    "plt.ylabel('Frequency')\n",
    "plt.title(f'Distribution of Portfolio {days}-Day Returns and Parametric VaR Estimates')\n",
    "plt.legend()\n",
    "plt.show()"
   ]
  }
 ],
 "metadata": {
  "kernelspec": {
   "display_name": "Python 3 (ipykernel)",
   "language": "python",
   "name": "python3"
  },
  "language_info": {
   "codemirror_mode": {
    "name": "ipython",
    "version": 3
   },
   "file_extension": ".py",
   "mimetype": "text/x-python",
   "name": "python",
   "nbconvert_exporter": "python",
   "pygments_lexer": "ipython3",
   "version": "3.10.0"
  }
 },
 "nbformat": 4,
 "nbformat_minor": 5
}
