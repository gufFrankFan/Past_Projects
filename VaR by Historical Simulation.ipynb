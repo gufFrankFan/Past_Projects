{
 "cells": [
  {
   "cell_type": "markdown",
   "id": "e968ffd2",
   "metadata": {},
   "source": [
    "# VaR by Historical Simulation"
   ]
  },
  {
   "cell_type": "markdown",
   "id": "f78a7d38",
   "metadata": {},
   "source": [
    "1. Install necessary libraries \n",
    "2. Define parameters (time range, tickers, portfolio value, simulations, confidence interval)\n",
    "3. Download adjusted close prices (accounting for dividends and stock splits) \n",
    "4. Calculate daily log returns \n",
    "5. Assign equal weights to each asset in the portfolio\n",
    "6. Calculate the historical returns for the portfolio\n",
    "7. Calculate rolling sum of returns over the specified window of days \n",
    "8. Calculate VaR using historical returns \n",
    "9. Plot the results "
   ]
  },
  {
   "cell_type": "code",
   "execution_count": 1,
   "id": "1a351f30",
   "metadata": {},
   "outputs": [],
   "source": [
    "import numpy as np\n",
    "import pandas as pd\n",
    "import datetime as dt\n",
    "import yfinance as yf\n",
    "import matplotlib.pyplot as plt"
   ]
  },
  {
   "cell_type": "code",
   "execution_count": 2,
   "id": "b507f3b0",
   "metadata": {},
   "outputs": [],
   "source": [
    "# Define parameters\n",
    "years = 15\n",
    "endDate = dt.datetime.now()\n",
    "startDate = endDate - dt.timedelta(days=365 * years)\n",
    "tickers = ['SPY', 'BND', 'GLD', 'QQQ', 'VTI']\n",
    "portfolio_value = 1000000\n",
    "days = 5\n",
    "confidence_interval = 0.95"
   ]
  },
  {
   "cell_type": "code",
   "execution_count": 3,
   "id": "60373609",
   "metadata": {},
   "outputs": [
    {
     "name": "stdout",
     "output_type": "stream",
     "text": [
      "[*********************100%***********************]  1 of 1 completed\n",
      "[*********************100%***********************]  1 of 1 completed\n",
      "[*********************100%***********************]  1 of 1 completed\n",
      "[*********************100%***********************]  1 of 1 completed\n",
      "[*********************100%***********************]  1 of 1 completed\n"
     ]
    }
   ],
   "source": [
    "# Download adjusted close prices for each ticker\n",
    "adj_close_df = pd.DataFrame()\n",
    "for ticker in tickers:\n",
    "    data = yf.download(ticker, start=startDate, end=endDate)\n",
    "    adj_close_df[ticker] = data['Adj Close']"
   ]
  },
  {
   "cell_type": "code",
   "execution_count": 4,
   "id": "3fd6d75c",
   "metadata": {},
   "outputs": [],
   "source": [
    "# Calculate daily log returns\n",
    "log_returns = np.log(adj_close_df / adj_close_df.shift(1)).dropna()"
   ]
  },
  {
   "cell_type": "code",
   "execution_count": 5,
   "id": "cfdd482e",
   "metadata": {},
   "outputs": [],
   "source": [
    "# Assign equal weights to each asset in the portfolio\n",
    "weights = np.array([1/len(tickers)] * len(tickers))"
   ]
  },
  {
   "cell_type": "code",
   "execution_count": 6,
   "id": "31feb13a",
   "metadata": {},
   "outputs": [],
   "source": [
    "# Calculate historical returns for the portfolio\n",
    "historical_returns = (log_returns * weights).sum(axis=1)"
   ]
  },
  {
   "cell_type": "code",
   "execution_count": 7,
   "id": "511b2608",
   "metadata": {},
   "outputs": [],
   "source": [
    "# Calculate rolling sum of returns over the specified window of days\n",
    "range_returns = historical_returns.rolling(window=days).sum().dropna()"
   ]
  },
  {
   "cell_type": "code",
   "execution_count": 8,
   "id": "03c7ce69",
   "metadata": {},
   "outputs": [
    {
     "data": {
      "text/plain": [
       "25659.597465567414"
      ]
     },
     "execution_count": 8,
     "metadata": {},
     "output_type": "execute_result"
    }
   ],
   "source": [
    "# Calculate VaR using historical returns\n",
    "VaR = -np.percentile(range_returns, 100 - (confidence_interval * 100)) * portfolio_value\n",
    "VaR"
   ]
  },
  {
   "cell_type": "code",
   "execution_count": 9,
   "id": "66c16705",
   "metadata": {},
   "outputs": [
    {
     "data": {
      "image/png": "[encoded data removed]",
      "text/plain": [
       "<Figure size 432x288 with 1 Axes>"
      ]
     },
     "metadata": {
      "needs_background": "light"
     },
     "output_type": "display_data"
    }
   ],
   "source": [
    "# Plot the results\n",
    "plt.hist((range_returns * portfolio_value).dropna(), bins=50, density=True)\n",
    "plt.xlabel(f'{days}-Day Portfolio Return (Dollar Value)')\n",
    "plt.ylabel('Frequency')\n",
    "plt.title(f'Distribution of Portfolio {days}-Day Returns (Dollar Value)')\n",
    "plt.axvline(-VaR, color='r', linestyle='dashed', linewidth=2, label=f'VaR at {confidence_interval:.0%} confidence interval')\n",
    "plt.legend()\n",
    "plt.show()"
   ]
  }
 ],
 "metadata": {
  "kernelspec": {
   "display_name": "Python 3 (ipykernel)",
   "language": "python",
   "name": "python3"
  },
  "language_info": {
   "codemirror_mode": {
    "name": "ipython",
    "version": 3
   },
   "file_extension": ".py",
   "mimetype": "text/x-python",
   "name": "python",
   "nbconvert_exporter": "python",
   "pygments_lexer": "ipython3",
   "version": "3.10.0"
  }
 },
 "nbformat": 4,
 "nbformat_minor": 5
}
